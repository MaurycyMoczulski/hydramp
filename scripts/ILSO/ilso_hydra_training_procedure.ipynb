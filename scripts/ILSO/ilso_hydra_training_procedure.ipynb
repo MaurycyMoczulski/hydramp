{
 "cells": [
  {
   "cell_type": "code",
   "execution_count": 1,
   "metadata": {},
   "outputs": [],
   "source": [
    "import tensorflow as tf\n",
    "config = tf.compat.v1.ConfigProto(\n",
    "    gpu_options = tf.compat.v1.GPUOptions(per_process_gpu_memory_fraction=0.8),\n",
    ")\n",
    "config.gpu_options.allow_growth = True\n",
    "session = tf.compat.v1.Session(config=config)\n",
    "tf.compat.v1.keras.backend.set_session(session)"
   ]
  },
  {
   "cell_type": "code",
   "execution_count": 2,
   "metadata": {},
   "outputs": [
    {
     "name": "stderr",
     "output_type": "stream",
     "text": [
      "Using TensorFlow backend.\n"
     ]
    }
   ],
   "source": [
    "import amp.data_utils.data_loader as data_loader\n",
    "import amp.data_utils.sequence as du_sequence\n",
    "import numpy as np\n",
    "import pandas as pd\n",
    "import sklearn\n",
    "from amp.config import hydra\n",
    "from amp.models.decoders import amp_expanded_decoder\n",
    "from amp.models.encoders import amp_expanded_encoder\n",
    "from amp.models.master import master\n",
    "from amp.utils import basic_model_serializer, callback, generator\n",
    "from keras import backend, layers\n",
    "from keras.optimizers import Adam\n",
    "from sklearn.model_selection import train_test_split\n"
   ]
  },
  {
   "cell_type": "code",
   "execution_count": 3,
   "metadata": {},
   "outputs": [],
   "source": [
    "config = tf.compat.v1.ConfigProto()\n",
    "config.gpu_options.allow_growth=True\n",
    "sess = tf.compat.v1.Session(config=config)"
   ]
  },
  {
   "cell_type": "code",
   "execution_count": 4,
   "metadata": {},
   "outputs": [],
   "source": [
    "seed = 7\n",
    "np.random.seed(seed)"
   ]
  },
  {
   "cell_type": "code",
   "execution_count": 5,
   "metadata": {},
   "outputs": [],
   "source": [
    "from amp.config import MIN_LENGTH, MAX_LENGTH, LATENT_DIM, MIN_KL, RCL_WEIGHT, HIDDEN_DIM, MAX_TEMPERATURE\n",
    "\n",
    "kl_weight = backend.variable(MIN_KL, name=\"kl_weight\")\n",
    "tau = backend.variable(MAX_TEMPERATURE, name=\"temperature\")"
   ]
  },
  {
   "cell_type": "markdown",
   "metadata": {},
   "source": [
    "# Import data"
   ]
  },
  {
   "cell_type": "code",
   "execution_count": 6,
   "metadata": {},
   "outputs": [
    {
     "name": "stderr",
     "output_type": "stream",
     "text": [
      "/home/kkrol/hydramp/env/lib/python3.8/site-packages/pandas/core/indexing.py:1596: SettingWithCopyWarning: \n",
      "A value is trying to be set on a copy of a slice from a DataFrame.\n",
      "Try using .loc[row_indexer,col_indexer] = value instead\n",
      "\n",
      "See the caveats in the documentation: https://pandas.pydata.org/pandas-docs/stable/user_guide/indexing.html#returning-a-view-versus-a-copy\n",
      "  self.obj[key] = _infer_fill_value(value)\n",
      "/home/kkrol/hydramp/env/lib/python3.8/site-packages/pandas/core/indexing.py:1763: SettingWithCopyWarning: \n",
      "A value is trying to be set on a copy of a slice from a DataFrame.\n",
      "Try using .loc[row_indexer,col_indexer] = value instead\n",
      "\n",
      "See the caveats in the documentation: https://pandas.pydata.org/pandas-docs/stable/user_guide/indexing.html#returning-a-view-versus-a-copy\n",
      "  isetter(loc, value)\n"
     ]
    }
   ],
   "source": [
    "data_manager = data_loader.AMPDataManager(\n",
    "    '../../data/unlabelled_positive.csv',\n",
    "    '../../data/unlabelled_negative.csv',\n",
    "    min_len=MIN_LENGTH,\n",
    "    max_len=MAX_LENGTH)\n",
    "\n",
    "amp_x, amp_y = data_manager.get_merged_data()\n",
    "amp_x_train, amp_x_test, amp_y_train, amp_y_test = train_test_split(amp_x, amp_y, test_size=0.1, random_state=36)\n",
    "amp_x_train, amp_x_val, amp_y_train, amp_y_val = train_test_split(amp_x_train, amp_y_train, test_size=0.2, random_state=36)"
   ]
  },
  {
   "cell_type": "code",
   "execution_count": 7,
   "metadata": {},
   "outputs": [],
   "source": [
    "# Restrict the length\n",
    "ecoli_df = pd.read_csv('../../data/mic_data.csv')\n",
    "mask = (ecoli_df['sequence'].str.len() <= MAX_LENGTH) & (ecoli_df['sequence'].str.len() >= MIN_LENGTH)\n",
    "ecoli_df = ecoli_df.loc[mask]\n",
    "mic_x = du_sequence.pad(du_sequence.to_one_hot(ecoli_df['sequence']))\n",
    "mic_y = ecoli_df.value"
   ]
  },
  {
   "cell_type": "code",
   "execution_count": 8,
   "metadata": {},
   "outputs": [],
   "source": [
    "mic_x_train, mic_x_test, mic_y_train, mic_y_test = train_test_split(mic_x, mic_y, test_size=0.1, random_state=36)\n",
    "mic_x_train, mic_x_val, mic_y_train, mic_y_val = train_test_split(mic_x_train, mic_y_train, test_size=0.2, random_state=36)"
   ]
  },
  {
   "cell_type": "code",
   "execution_count": 9,
   "metadata": {},
   "outputs": [],
   "source": [
    "new_train = pd.DataFrame()\n",
    "new_train['value'] = list(mic_y_train)\n",
    "new_train['sequence'] = list(mic_x_train)\n",
    "active_peptides = new_train[new_train.value < 1.5]\n",
    "active_peptides  = pd.concat([active_peptides] * 25)\n",
    "new_train  = pd.concat([\n",
    "    new_train,\n",
    "    active_peptides,    \n",
    "])\n",
    "mic_x_train = np.array(list(new_train.sequence)).reshape(len(new_train), 25)\n",
    "mic_y_train = np.array(new_train.value).reshape(len(new_train),)"
   ]
  },
  {
   "cell_type": "markdown",
   "metadata": {},
   "source": [
    "# Import pretrained classifiers"
   ]
  },
  {
   "cell_type": "code",
   "execution_count": 10,
   "metadata": {},
   "outputs": [],
   "source": [
    "bms = basic_model_serializer.BasicModelSerializer()\n",
    "amp_classifier = bms.load_model('../../models/amp_classifier')\n",
    "amp_classifier_model = amp_classifier()\n",
    "mic_classifier = bms.load_model('../../models/mic_classifier/')\n",
    "mic_classifier_model = mic_classifier() "
   ]
  },
  {
   "cell_type": "markdown",
   "metadata": {},
   "source": [
    "# Set up cVAE"
   ]
  },
  {
   "cell_type": "code",
   "execution_count": 11,
   "metadata": {},
   "outputs": [],
   "source": [
    "input_to_encoder = layers.Input(shape=(MAX_LENGTH,))\n",
    "input_to_decoder = layers.Input(shape=(LATENT_DIM + 2,))\n",
    "\n",
    "def reset_models():\n",
    "    global encoder, encoder_model, decoder, decoder_model, master_model, master_keras_model\n",
    "    \n",
    "    encoder = amp_expanded_encoder.AMPEncoderFactory.get_default(HIDDEN_DIM, LATENT_DIM, MAX_LENGTH)\n",
    "    encoder_model = encoder(input_to_encoder)\n",
    "    decoder = amp_expanded_decoder.AMPDecoderFactory.build_default(LATENT_DIM + 2, tau, MAX_LENGTH)\n",
    "    decoder_model = decoder(input_to_decoder)\n",
    "    master_model = master.MasterAMPTrainer(\n",
    "        amp_classifier=amp_classifier,\n",
    "        mic_classifier=mic_classifier,\n",
    "        encoder=encoder,\n",
    "        decoder=decoder,\n",
    "        kl_weight=kl_weight,\n",
    "        rcl_weight=RCL_WEIGHT, \n",
    "        master_optimizer=Adam(lr=1e-3),\n",
    "        loss_weights=hydra,\n",
    "    )\n",
    "    master_keras_model = master_model.build(input_shape=(MAX_LENGTH, 21))"
   ]
  },
  {
   "cell_type": "code",
   "execution_count": 12,
   "metadata": {},
   "outputs": [
    {
     "name": "stdout",
     "output_type": "stream",
     "text": [
      "tracking <tf.Variable 'temperature:0' shape=() dtype=float32, numpy=2.0> temperature\n",
      "tracking <tf.Variable 'kl_weight:0' shape=() dtype=float32, numpy=1e-04> kl_weight\n",
      "Tensor(\"vae_loss_1/add_1:0\", shape=(None,), dtype=float32)\n"
     ]
    }
   ],
   "source": [
    "reset_models()"
   ]
  },
  {
   "cell_type": "code",
   "execution_count": 13,
   "metadata": {},
   "outputs": [
    {
     "name": "stdout",
     "output_type": "stream",
     "text": [
      "16028/16028 [==============================] - 1s 45us/step\n",
      "16028/16028 [==============================] - 0s 15us/step\n",
      "4007/4007 [==============================] - 0s 30us/step\n",
      "4007/4007 [==============================] - 0s 13us/step\n",
      "40904/40904 [==============================] - 1s 31us/step\n",
      "40904/40904 [==============================] - 1s 13us/step\n",
      "620/620 [==============================] - 0s 45us/step\n",
      "620/620 [==============================] - 0s 19us/step\n",
      "180194/180194 [==============================] - 6s 31us/step\n",
      "180194/180194 [==============================] - 2s 13us/step\n",
      "22524/22524 [==============================] - 1s 32us/step\n",
      "22524/22524 [==============================] - 0s 13us/step\n"
     ]
    }
   ],
   "source": [
    "#DATASET_AMP/MIC_TRAIN/VAL\n",
    "\n",
    "amp_amp_train = amp_classifier_model.predict(amp_x_train, verbose=1, batch_size=10000).reshape(len(amp_x_train))\n",
    "amp_mic_train = mic_classifier_model.predict(amp_x_train, verbose=1, batch_size=10000).reshape(len(amp_x_train))\n",
    "amp_amp_val = amp_classifier_model.predict(amp_x_val, verbose=1, batch_size=10000).reshape(len(amp_x_val))\n",
    "amp_mic_val = mic_classifier_model.predict(amp_x_val, verbose=1, batch_size=10000).reshape(len(amp_x_val))\n",
    "\n",
    "mic_amp_train = amp_classifier_model.predict(mic_x_train, verbose=1, batch_size=10000).reshape(len(mic_x_train))\n",
    "mic_mic_train = mic_classifier_model.predict(mic_x_train, verbose=1, batch_size=10000).reshape(len(mic_x_train))\n",
    "mic_amp_val = amp_classifier_model.predict(mic_x_val, verbose=1, batch_size=10000).reshape(len(mic_x_val))\n",
    "mic_mic_val = mic_classifier_model.predict(mic_x_val, verbose=1, batch_size=10000).reshape(len(mic_x_val))\n",
    "\n",
    "uniprot_x_train = np.array(du_sequence.pad(du_sequence.to_one_hot(pd.read_csv('../../data/Uniprot_0_25_train.csv').Sequence)))\n",
    "uniprot_x_val = np.array(du_sequence.pad(du_sequence.to_one_hot(pd.read_csv('../../data/Uniprot_0_25_val.csv').Sequence)))\n",
    "\n",
    "uniprot_amp_train = amp_classifier_model.predict(uniprot_x_train, verbose=1, batch_size=10000).reshape(len(uniprot_x_train))\n",
    "uniprot_mic_train = mic_classifier_model.predict(uniprot_x_train, verbose=1, batch_size=10000).reshape(len(uniprot_x_train))\n",
    "uniprot_amp_val = amp_classifier_model.predict(uniprot_x_val, verbose=1, batch_size=10000).reshape(len(uniprot_x_val))\n",
    "uniprot_mic_val = mic_classifier_model.predict(uniprot_x_val, verbose=1, batch_size=10000).reshape(len(uniprot_x_val))\n"
   ]
  },
  {
   "cell_type": "code",
   "execution_count": 14,
   "metadata": {},
   "outputs": [],
   "source": [
    "training_generator = generator.concatenated_generator(\n",
    "    uniprot_x_train,\n",
    "    uniprot_amp_train,\n",
    "    uniprot_mic_train,\n",
    "    amp_x_train,\n",
    "    amp_amp_train,\n",
    "    amp_mic_train,\n",
    "    mic_x_train,\n",
    "    mic_amp_train,\n",
    "    mic_mic_train,\n",
    "    128\n",
    ")\n",
    "validation_generator = generator.concatenated_generator(\n",
    "    uniprot_x_val,\n",
    "    uniprot_amp_val,\n",
    "    uniprot_mic_val,\n",
    "    amp_x_val,\n",
    "    amp_amp_val,\n",
    "    amp_mic_val,\n",
    "    mic_x_val,\n",
    "    mic_amp_val,\n",
    "    mic_mic_val,\n",
    "    128\n",
    ")"
   ]
  },
  {
   "cell_type": "code",
   "execution_count": 15,
   "metadata": {},
   "outputs": [],
   "source": [
    "from amp.data_utils.ilso_dataloader import ILSOGenerator\n",
    "\n",
    "aggregated_amp_train = np.concatenate((amp_amp_train, mic_amp_train, uniprot_amp_train))\n",
    "aggregated_amp_val = np.concatenate((amp_amp_val, mic_amp_val, uniprot_amp_val))\n",
    "\n",
    "aggregated_mic_train = np.concatenate((amp_mic_train, mic_mic_train, uniprot_mic_train))\n",
    "aggregated_mic_val = np.concatenate((amp_mic_val, mic_mic_val, uniprot_mic_val))\n",
    "\n",
    "training_dataset = ILSOGenerator(\n",
    "    training_generator, aggregated_amp_train, aggregated_mic_train, \n",
    "    [\n",
    "        \"amp_prediction\",\n",
    "        \"mic_prediction\",\n",
    "        \"vae_loss_1\",\n",
    "        \"mic_mean_grad\",\n",
    "        \"amp_mean_grad\",\n",
    "        \"unconstrained_sleep_mic_output_grad_input\",\n",
    "        \"unconstrained_sleep_amp_output_grad_input\",\n",
    "        \"correction_sleep_mic_output_grad\",\n",
    "        \"correction_sleep_amp_output_grad\",\n",
    "        \"correction_sleep_amp_prediction\",\n",
    "        \"correction_sleep_mic_prediction\",\n",
    "        \"unconstrained_sleep_amp_prediction\",\n",
    "        \"unconstrained_sleep_mic_prediction\",\n",
    "        \"z_cond_reconstructed_error\",\n",
    "        \"correction_sleep_cond_reconstructed_error\",\n",
    "        \"unconstrained_sleep_cond_reconstructed_error\",\n",
    "    ], enrichment_size=24)\n",
    "\n",
    "val_dataset = ILSOGenerator(validation_generator, aggregated_amp_val, aggregated_mic_val) "
   ]
  },
  {
   "cell_type": "code",
   "execution_count": 16,
   "metadata": {},
   "outputs": [],
   "source": [
    "from amp.utils.generate_peptides import get_unique, get_z_sigma, single_move_zeros\n",
    "from amp.data_utils.sequence import pad, to_one_hot\n",
    "\n",
    "peptides = [\n",
    "    \"ILRWPWWPWRRK\", # Omiganan (MBI-226)\n",
    "    \"AKRHHGYKRKFH\", # Demegen (P-113)\n",
    "    \"GRRRRSVQWCA\", # hLF1-11\n",
    "    \"KNKRKRRRRRRGGRRRR\", # Mel4\n",
    "    \"MPKEKVFLKIEKMGRNIRN\", # Vishnu3 (HB-107)\n",
    "]\n",
    "\n",
    "n = 1000\n",
    "temp = 2\n",
    "batch_size=5000\n",
    "\n",
    "\n",
    "def improve(seq, amp, mic, z_sigma, temp=0.0, batch_size=5000):\n",
    "    z = encoder_model.predict(seq, batch_size=batch_size)\n",
    "    noise = np.random.normal(loc=0, scale=temp*z_sigma, size=z.shape)\n",
    "    encoded = z + noise\n",
    "    conditioned = np.hstack([\n",
    "        encoded,\n",
    "        np.ones((len(seq), 1)),\n",
    "        np.ones((len(seq), 1)),\n",
    "    ])\n",
    "    decoded = decoder_model.predict(conditioned, batch_size=batch_size)\n",
    "    new_peptides = np.argmax(decoded, axis=2)\n",
    "    new_peptides = np.array([single_move_zeros(y) for y in new_peptides])\n",
    "    new_amp = amp_classifier_model.predict(new_peptides, batch_size=batch_size)\n",
    "    new_mic = mic_classifier_model.predict(new_peptides, batch_size=batch_size)                                                                             \n",
    "    \n",
    "    # RELATIVE\n",
    "    rel_better = new_amp > amp.reshape(-1, 1)\n",
    "    rel_better = rel_better & (new_mic > mic.reshape(-1, 1))\n",
    "    rel_better = np.logical_or.reduce(rel_better, axis=1)\n",
    "    rel_improved = new_peptides[np.where(rel_better), :].reshape(-1, 25)\n",
    "    before_rel_improve = seq[np.where(rel_better), :].reshape(-1, 25)\n",
    "    \n",
    "    # ABSOLUTE\n",
    "    abs_better = new_amp >= 0.8\n",
    "    abs_better = abs_better & (new_mic > 0.5)\n",
    "    abs_better = np.logical_or.reduce(abs_better, axis=1)\n",
    "    abs_improved = new_peptides[np.where(abs_better), :].reshape(-1, 25)\n",
    "    before_abs_improve = seq[np.where(abs_better), :].reshape(-1, 25)\n",
    "    \n",
    "    return {\n",
    "        'new_peptides': new_peptides,\n",
    "        'rel_improved': rel_improved,\n",
    "        'abs_improved': abs_improved,\n",
    "        'before_rel_improve': before_rel_improve,\n",
    "        'before_abs_improve': before_abs_improve, \n",
    "        'new_amp': new_amp,\n",
    "        'new_mic': new_mic,\n",
    "        }   \n",
    "\n",
    "def get_new_peptides():\n",
    "    analogues = []\n",
    "    new_amps = []\n",
    "    new_mics = []\n",
    "    for peptide in peptides:\n",
    "        pep = pad(to_one_hot([peptide]))\n",
    "        amp = amp_classifier_model.predict(pep)\n",
    "        mic = mic_classifier_model.predict(pep)\n",
    "        z_sigma = get_z_sigma(encoder, pep)\n",
    "\n",
    "        pep = np.vstack([pep] * n).reshape(-1, 25)\n",
    "        amp = np.vstack([amp] * n)\n",
    "        mic = np.vstack([mic] * n)\n",
    "\n",
    "        analogue_batch = get_unique(improve(pep, amp, mic, z_sigma, temp=temp, batch_size=batch_size)['abs_improved'])\n",
    "        new_amps.extend(amp_classifier_model.predict(analogue_batch, batch_size=5000))\n",
    "        new_mics.extend(mic_classifier_model.predict(analogue_batch, batch_size=5000))\n",
    "        analogues.extend(analogue_batch)\n",
    "    return analogues, np.array(new_amps).flatten(), np.array(new_mics).flatten()"
   ]
  },
  {
   "cell_type": "code",
   "execution_count": 17,
   "metadata": {},
   "outputs": [],
   "source": [
    "import keras\n",
    "class BestGenerationAdder(keras.callbacks.Callback):\n",
    "    def __init__(self, dataset):\n",
    "        super().__init__()\n",
    "        self.dataset = dataset\n",
    "\n",
    "    def on_epoch_end(self, epoch, logs=None):\n",
    "        seq, amps, mics = get_new_peptides()\n",
    "        self.dataset.add_examples(seq, amps, mics)"
   ]
  },
  {
   "cell_type": "code",
   "execution_count": 18,
   "metadata": {},
   "outputs": [],
   "source": [
    "vae_callback = callback.VAECallback(\n",
    "    encoder=encoder_model,\n",
    "    decoder=decoder_model,\n",
    "    tau=tau,\n",
    "    kl_weight=kl_weight,\n",
    "    amp_classifier=amp_classifier_model,\n",
    "    mic_classifier=mic_classifier_model,\n",
    ")\n",
    "\n",
    "\n",
    "sm_callback = callback.SaveModelCallback(\n",
    "    model = master_model,\n",
    "    model_save_path=\"../../models/ilso_models/\",\n",
    "    name=\"HydrAMP_each_epoch\")"
   ]
  },
  {
   "cell_type": "code",
   "execution_count": 19,
   "metadata": {},
   "outputs": [
    {
     "name": "stderr",
     "output_type": "stream",
     "text": [
      "/home/kkrol/hydramp/env/lib/python3.8/site-packages/tensorflow/python/framework/indexed_slices.py:433: UserWarning: Converting sparse IndexedSlices to a dense Tensor of unknown shape. This may consume a large amount of memory.\n",
      "  warnings.warn(\n"
     ]
    },
    {
     "name": "stdout",
     "output_type": "stream",
     "text": [
      "Epoch 1/11\n",
      "1408/1408 [==============================] - 4439s 3s/step - loss: 3.7285e-04 - amp_prediction_loss: 2.0546e-06 - mic_prediction_loss: 5.4422e-06 - vae_loss_1_loss: 3.7101e-04 - mic_mean_grad_loss: 1.3006e-11 - amp_mean_grad_loss: 1.9442e-09 - unconstrained_sleep_mic_output_grad_input_loss: 9.5623e-10 - unconstrained_sleep_amp_output_grad_input_loss: 5.8347e-08 - correction_sleep_mic_output_grad_loss: 2.8383e-11 - correction_sleep_amp_output_grad_loss: 1.0563e-09 - correction_sleep_amp_prediction_loss: 6.8086e-07 - correction_sleep_mic_prediction_loss: 4.1139e-06 - unconstrained_sleep_amp_prediction_loss: 1.0247e-06 - unconstrained_sleep_mic_prediction_loss: 4.0901e-06 - z_cond_reconstructed_error_loss: 1.3649e-06 - correction_sleep_cond_reconstructed_error_loss: 1.3691e-06 - unconstrained_sleep_cond_reconstructed_error_loss: 7.6075e-06 - amp_prediction_acc: 0.0023 - amp_prediction_binary_crossentropy: 0.8028 - mic_prediction_acc: 0.0000e+00 - mic_prediction_binary_crossentropy: 1.7896 - vae_loss_1__kl_metric: 137.7747 - vae_loss_1__rcl: 2.1249 - vae_loss_1__reconstruction_acc: 0.3764 - vae_loss_1__amino_acc: 0.0939 - vae_loss_1__empty_acc: 0.9445 - mic_mean_grad_mse: 1.0819e-05 - mic_mean_grad_huber_loss: 5.3393e-06 - amp_mean_grad_mse: 0.0015 - amp_mean_grad_huber_loss: 7.4429e-04 - unconstrained_sleep_mic_output_grad_input_mse: 8.0361e-04 - unconstrained_sleep_mic_output_grad_input_huber_loss: 3.5174e-04 - unconstrained_sleep_amp_output_grad_input_mse: 0.0719 - unconstrained_sleep_amp_output_grad_input_huber_loss: 0.0214 - correction_sleep_mic_output_grad_mse: 2.1570e-05 - correction_sleep_mic_output_grad_huber_loss: 1.0376e-05 - correction_sleep_amp_output_grad_mse: 7.8093e-04 - correction_sleep_amp_output_grad_huber_loss: 3.8902e-04 - correction_sleep_amp_prediction_acc: 0.9123 - correction_sleep_amp_prediction_binary_crossentropy: 0.2632 - correction_sleep_mic_prediction_acc: 0.4999 - correction_sleep_mic_prediction_binary_crossentropy: 1.5277 - unconstrained_sleep_amp_prediction_acc: 0.8251 - unconstrained_sleep_amp_prediction_binary_crossentropy: 0.4007 - unconstrained_sleep_mic_prediction_acc: 0.4999 - unconstrained_sleep_mic_prediction_binary_crossentropy: 1.5197 - z_cond_reconstructed_error_mse: 0.4994 - z_cond_reconstructed_error_mae: 0.5315 - correction_sleep_cond_reconstructed_error_mse: 0.5003 - correction_sleep_cond_reconstructed_error_mae: 0.5322 - unconstrained_sleep_cond_reconstructed_error_mse: 2.7905 - unconstrained_sleep_cond_reconstructed_error_mae: 1.3156 - val_loss: 126.5977 - val_amp_prediction_loss: 0.8415 - val_mic_prediction_loss: 2.0762 - val_vae_loss_1_loss: 127.6679 - val_mic_mean_grad_loss: 8.5685e-06 - val_amp_mean_grad_loss: 0.0011 - val_unconstrained_sleep_mic_output_grad_input_loss: 9.7106e-04 - val_unconstrained_sleep_amp_output_grad_input_loss: 0.0298 - val_correction_sleep_mic_output_grad_loss: 2.0088e-05 - val_correction_sleep_amp_output_grad_loss: 4.8881e-05 - val_correction_sleep_amp_prediction_loss: 0.0194 - val_correction_sleep_mic_prediction_loss: 1.4978 - val_unconstrained_sleep_amp_prediction_loss: 0.2179 - val_unconstrained_sleep_mic_prediction_loss: 1.4866 - val_z_cond_reconstructed_error_loss: 0.2231 - val_correction_sleep_cond_reconstructed_error_loss: 0.2262 - val_unconstrained_sleep_cond_reconstructed_error_loss: 2.4522 - val_amp_prediction_acc: 0.0016 - val_amp_prediction_binary_crossentropy: 0.8535 - val_mic_prediction_acc: 0.0000e+00 - val_mic_prediction_binary_crossentropy: 2.0955 - val_vae_loss_1__kl_metric: 174.2080 - val_vae_loss_1__rcl: 1.9941 - val_vae_loss_1__reconstruction_acc: 0.4023 - val_vae_loss_1__amino_acc: 0.1016 - val_vae_loss_1__empty_acc: 0.9996 - val_mic_mean_grad_mse: 1.7370e-05 - val_mic_mean_grad_huber_loss: 8.5685e-06 - val_amp_mean_grad_mse: 0.0023 - val_amp_mean_grad_huber_loss: 0.0011 - val_unconstrained_sleep_mic_output_grad_input_mse: 0.0022 - val_unconstrained_sleep_mic_output_grad_input_huber_loss: 9.7106e-04 - val_unconstrained_sleep_amp_output_grad_input_mse: 0.1233 - val_unconstrained_sleep_amp_output_grad_input_huber_loss: 0.0298 - val_correction_sleep_mic_output_grad_mse: 4.0389e-05 - val_correction_sleep_mic_output_grad_huber_loss: 2.0088e-05 - val_correction_sleep_amp_output_grad_mse: 9.8496e-05 - val_correction_sleep_amp_output_grad_huber_loss: 4.8881e-05 - val_correction_sleep_amp_prediction_acc: 0.9965 - val_correction_sleep_amp_prediction_binary_crossentropy: 0.0265 - val_correction_sleep_mic_prediction_acc: 0.5014 - val_correction_sleep_mic_prediction_binary_crossentropy: 1.5166 - val_unconstrained_sleep_amp_prediction_acc: 0.8652 - val_unconstrained_sleep_amp_prediction_binary_crossentropy: 0.2413 - val_unconstrained_sleep_mic_prediction_acc: 0.5016 - val_unconstrained_sleep_mic_prediction_binary_crossentropy: 1.5065 - val_z_cond_reconstructed_error_mse: 0.2231 - val_z_cond_reconstructed_error_mae: 0.3774 - val_correction_sleep_cond_reconstructed_error_mse: 0.2262 - val_correction_sleep_cond_reconstructed_error_mae: 0.3802 - val_unconstrained_sleep_cond_reconstructed_error_mse: 2.4522 - val_unconstrained_sleep_cond_reconstructed_error_mae: 1.2447\n",
      "Original positive: GGAGHVPEYFVGIGTPISFYG, \n",
      "generated: KLKKFLKLLLLALRLKKRR'''''', \n",
      "AMP probability: 0.999996542930603, \n",
      " MIC prediction: 0.9998631477355957. \n",
      "\n",
      "Original negative: FPSELANMKNALGFFHIGEIF, \n",
      "generated: MAEVDALDSYVDLEEFKSASS'''', \n",
      "AMP probability: 0.016324715688824654, \n",
      "MIC prediction: 7.464630584763654e-07. \n",
      "\n",
      "Current KL weight is 1e-04\n",
      "Current temperature is 2.0\n",
      "Epoch 2/11\n",
      "1408/1408 [==============================] - 3881s 3s/step - loss: 3.3640e-04 - amp_prediction_loss: 1.5897e-06 - mic_prediction_loss: 5.2494e-06 - vae_loss_1_loss: 3.3486e-04 - mic_mean_grad_loss: 3.7715e-11 - amp_mean_grad_loss: 3.2982e-09 - unconstrained_sleep_mic_output_grad_input_loss: 3.6586e-09 - unconstrained_sleep_amp_output_grad_input_loss: 7.5492e-08 - correction_sleep_mic_output_grad_loss: 7.8168e-11 - correction_sleep_amp_output_grad_loss: 2.2848e-09 - correction_sleep_amp_prediction_loss: 5.7000e-07 - correction_sleep_mic_prediction_loss: 4.0290e-06 - unconstrained_sleep_amp_prediction_loss: 6.5678e-07 - unconstrained_sleep_mic_prediction_loss: 3.9842e-06 - z_cond_reconstructed_error_loss: 6.1165e-07 - correction_sleep_cond_reconstructed_error_loss: 6.3228e-07 - unconstrained_sleep_cond_reconstructed_error_loss: 5.8738e-06 - amp_prediction_acc: 0.0026 - amp_prediction_binary_crossentropy: 0.6251 - mic_prediction_acc: 0.0000e+00 - mic_prediction_binary_crossentropy: 1.7491 - vae_loss_1__kl_metric: 183.9525 - vae_loss_1__rcl: 1.9510 - vae_loss_1__reconstruction_acc: 0.4126 - vae_loss_1__amino_acc: 0.1306 - vae_loss_1__empty_acc: 0.9981 - mic_mean_grad_mse: 3.4152e-05 - mic_mean_grad_huber_loss: 1.6202e-05 - amp_mean_grad_mse: 0.0032 - amp_mean_grad_huber_loss: 0.0012 - unconstrained_sleep_mic_output_grad_input_mse: 0.0038 - unconstrained_sleep_mic_output_grad_input_huber_loss: 0.0014 - unconstrained_sleep_amp_output_grad_input_mse: 0.0959 - unconstrained_sleep_amp_output_grad_input_huber_loss: 0.0281 - correction_sleep_mic_output_grad_mse: 6.3957e-05 - correction_sleep_mic_output_grad_huber_loss: 3.0506e-05 - correction_sleep_amp_output_grad_mse: 0.0027 - correction_sleep_amp_output_grad_huber_loss: 9.4699e-04 - correction_sleep_amp_prediction_acc: 0.9528 - correction_sleep_amp_prediction_binary_crossentropy: 0.2567 - correction_sleep_mic_prediction_acc: 0.5003 - correction_sleep_mic_prediction_binary_crossentropy: 1.5217 - unconstrained_sleep_amp_prediction_acc: 0.8642 - unconstrained_sleep_amp_prediction_binary_crossentropy: 0.2699 - unconstrained_sleep_mic_prediction_acc: 0.5002 - unconstrained_sleep_mic_prediction_binary_crossentropy: 1.5063 - z_cond_reconstructed_error_mse: 0.2300 - z_cond_reconstructed_error_mae: 0.3789 - correction_sleep_cond_reconstructed_error_mse: 0.2377 - correction_sleep_cond_reconstructed_error_mae: 0.3840 - unconstrained_sleep_cond_reconstructed_error_mse: 2.1918 - unconstrained_sleep_cond_reconstructed_error_mae: 1.1680 - val_loss: 116.1368 - val_amp_prediction_loss: 0.7354 - val_mic_prediction_loss: 2.0870 - val_vae_loss_1_loss: 121.7920 - val_mic_mean_grad_loss: 1.4709e-05 - val_amp_mean_grad_loss: 0.0030 - val_unconstrained_sleep_mic_output_grad_input_loss: 0.0014 - val_unconstrained_sleep_amp_output_grad_input_loss: 0.0265 - val_correction_sleep_mic_output_grad_loss: 3.1328e-05 - val_correction_sleep_amp_output_grad_loss: 0.0016 - val_correction_sleep_amp_prediction_loss: 0.2460 - val_correction_sleep_mic_prediction_loss: 1.4941 - val_unconstrained_sleep_amp_prediction_loss: 0.2541 - val_unconstrained_sleep_mic_prediction_loss: 1.4804 - val_z_cond_reconstructed_error_loss: 0.2159 - val_correction_sleep_cond_reconstructed_error_loss: 0.2239 - val_unconstrained_sleep_cond_reconstructed_error_loss: 1.8479 - val_amp_prediction_acc: 0.0021 - val_amp_prediction_binary_crossentropy: 0.7475 - val_mic_prediction_acc: 0.0000e+00 - val_mic_prediction_binary_crossentropy: 2.1057 - val_vae_loss_1__kl_metric: 187.4206 - val_vae_loss_1__rcl: 1.9021 - val_vae_loss_1__reconstruction_acc: 0.4313 - val_vae_loss_1__amino_acc: 0.1493 - val_vae_loss_1__empty_acc: 0.9997 - val_mic_mean_grad_mse: 2.9917e-05 - val_mic_mean_grad_huber_loss: 1.4709e-05 - val_amp_mean_grad_mse: 0.0092 - val_amp_mean_grad_huber_loss: 0.0030 - val_unconstrained_sleep_mic_output_grad_input_mse: 0.0037 - val_unconstrained_sleep_mic_output_grad_input_huber_loss: 0.0014 - val_unconstrained_sleep_amp_output_grad_input_mse: 0.0861 - val_unconstrained_sleep_amp_output_grad_input_huber_loss: 0.0265 - val_correction_sleep_mic_output_grad_mse: 6.6027e-05 - val_correction_sleep_mic_output_grad_huber_loss: 3.1328e-05 - val_correction_sleep_amp_output_grad_mse: 0.0046 - val_correction_sleep_amp_output_grad_huber_loss: 0.0016 - val_correction_sleep_amp_prediction_acc: 0.9458 - val_correction_sleep_amp_prediction_binary_crossentropy: 0.2542 - val_correction_sleep_mic_prediction_acc: 0.5007 - val_correction_sleep_mic_prediction_binary_crossentropy: 1.5130 - val_unconstrained_sleep_amp_prediction_acc: 0.8634 - val_unconstrained_sleep_amp_prediction_binary_crossentropy: 0.2791 - val_unconstrained_sleep_mic_prediction_acc: 0.5003 - val_unconstrained_sleep_mic_prediction_binary_crossentropy: 1.5003 - val_z_cond_reconstructed_error_mse: 0.2159 - val_z_cond_reconstructed_error_mae: 0.3592 - val_correction_sleep_cond_reconstructed_error_mse: 0.2239 - val_correction_sleep_cond_reconstructed_error_mae: 0.3651 - val_unconstrained_sleep_cond_reconstructed_error_mse: 1.8479 - val_unconstrained_sleep_cond_reconstructed_error_mae: 1.0741\n"
     ]
    },
    {
     "name": "stdout",
     "output_type": "stream",
     "text": [
      "Original positive: GGAGHVPEYFVGIGTPISFYG, \n",
      "generated: FLLLLLKAKKAKKIKKALK'''''', \n",
      "AMP probability: 0.9999936819076538, \n",
      " MIC prediction: 0.9934953451156616. \n",
      "\n",
      "Original negative: FPSELANMKNALGFFHIGEIF, \n",
      "generated: GAISDLAALLDGLILEIGLIS'''', \n",
      "AMP probability: 0.9267773032188416, \n",
      "MIC prediction: 1.962632495633443e-06. \n",
      "\n",
      "Current KL weight is 0.00010100501\n",
      "Current temperature is 1.9800997\n",
      "Epoch 3/11\n",
      "1408/1408 [==============================] - 3865s 3s/step - loss: 3.0843e-04 - amp_prediction_loss: 1.5279e-06 - mic_prediction_loss: 5.1222e-06 - vae_loss_1_loss: 3.0690e-04 - mic_mean_grad_loss: 1.9794e-10 - amp_mean_grad_loss: 1.3070e-08 - unconstrained_sleep_mic_output_grad_input_loss: 5.1954e-09 - unconstrained_sleep_amp_output_grad_input_loss: 6.7876e-08 - correction_sleep_mic_output_grad_loss: 2.7538e-10 - correction_sleep_amp_output_grad_loss: 1.2563e-08 - correction_sleep_amp_prediction_loss: 1.2512e-06 - correction_sleep_mic_prediction_loss: 3.9261e-06 - unconstrained_sleep_amp_prediction_loss: 7.6805e-07 - unconstrained_sleep_mic_prediction_loss: 3.8930e-06 - z_cond_reconstructed_error_loss: 7.3536e-07 - correction_sleep_cond_reconstructed_error_loss: 7.8107e-07 - unconstrained_sleep_cond_reconstructed_error_loss: 5.1496e-06 - amp_prediction_acc: 0.0044 - amp_prediction_binary_crossentropy: 0.5906 - mic_prediction_acc: 0.0000e+00 - mic_prediction_binary_crossentropy: 1.7320 - vae_loss_1__kl_metric: 244.6382 - vae_loss_1__rcl: 1.8122 - vae_loss_1__reconstruction_acc: 0.4501 - vae_loss_1__amino_acc: 0.1913 - vae_loss_1__empty_acc: 0.9967 - mic_mean_grad_mse: 1.5983e-04 - mic_mean_grad_huber_loss: 7.7521e-05 - amp_mean_grad_mse: 0.0142 - amp_mean_grad_huber_loss: 0.0047 - unconstrained_sleep_mic_output_grad_input_mse: 0.0050 - unconstrained_sleep_mic_output_grad_input_huber_loss: 0.0020 - unconstrained_sleep_amp_output_grad_input_mse: 0.0778 - unconstrained_sleep_amp_output_grad_input_huber_loss: 0.0256 - correction_sleep_mic_output_grad_mse: 2.3456e-04 - correction_sleep_mic_output_grad_huber_loss: 1.1153e-04 - correction_sleep_amp_output_grad_mse: 0.0151 - correction_sleep_amp_output_grad_huber_loss: 0.0049 - correction_sleep_amp_prediction_acc: 0.8809 - correction_sleep_amp_prediction_binary_crossentropy: 0.5524 - correction_sleep_mic_prediction_acc: 0.5005 - correction_sleep_mic_prediction_binary_crossentropy: 1.5038 - unconstrained_sleep_amp_prediction_acc: 0.8560 - unconstrained_sleep_amp_prediction_binary_crossentropy: 0.3195 - unconstrained_sleep_mic_prediction_acc: 0.4990 - unconstrained_sleep_mic_prediction_binary_crossentropy: 1.4927 - z_cond_reconstructed_error_mse: 0.2820 - z_cond_reconstructed_error_mae: 0.4094 - correction_sleep_cond_reconstructed_error_mse: 0.2998 - correction_sleep_cond_reconstructed_error_mae: 0.4196 - unconstrained_sleep_cond_reconstructed_error_mse: 1.9480 - unconstrained_sleep_cond_reconstructed_error_mae: 1.0965 - val_loss: 108.2283 - val_amp_prediction_loss: 0.6777 - val_mic_prediction_loss: 2.0108 - val_vae_loss_1_loss: 111.7396 - val_mic_mean_grad_loss: 2.0579e-04 - val_amp_mean_grad_loss: 0.0079 - val_unconstrained_sleep_mic_output_grad_input_loss: 0.0025 - val_unconstrained_sleep_amp_output_grad_input_loss: 0.0267 - val_correction_sleep_mic_output_grad_loss: 2.8523e-04 - val_correction_sleep_amp_output_grad_loss: 0.0061 - val_correction_sleep_amp_prediction_loss: 0.4049 - val_correction_sleep_mic_prediction_loss: 1.4297 - val_unconstrained_sleep_amp_prediction_loss: 0.3258 - val_unconstrained_sleep_mic_prediction_loss: 1.4489 - val_z_cond_reconstructed_error_loss: 0.2705 - val_correction_sleep_cond_reconstructed_error_loss: 0.2969 - val_unconstrained_sleep_cond_reconstructed_error_loss: 2.0135 - val_amp_prediction_acc: 0.0025 - val_amp_prediction_binary_crossentropy: 0.6927 - val_mic_prediction_acc: 0.0000e+00 - val_mic_prediction_binary_crossentropy: 2.0307 - val_vae_loss_1__kl_metric: 309.9210 - val_vae_loss_1__rcl: 1.7444 - val_vae_loss_1__reconstruction_acc: 0.4691 - val_vae_loss_1__amino_acc: 0.2118 - val_vae_loss_1__empty_acc: 0.9994 - val_mic_mean_grad_mse: 4.1894e-04 - val_mic_mean_grad_huber_loss: 2.0579e-04 - val_amp_mean_grad_mse: 0.0253 - val_amp_mean_grad_huber_loss: 0.0079 - val_unconstrained_sleep_mic_output_grad_input_mse: 0.0057 - val_unconstrained_sleep_mic_output_grad_input_huber_loss: 0.0025 - val_unconstrained_sleep_amp_output_grad_input_mse: 0.0749 - val_unconstrained_sleep_amp_output_grad_input_huber_loss: 0.0267 - val_correction_sleep_mic_output_grad_mse: 5.8953e-04 - val_correction_sleep_mic_output_grad_huber_loss: 2.8523e-04 - val_correction_sleep_amp_output_grad_mse: 0.0191 - val_correction_sleep_amp_output_grad_huber_loss: 0.0061 - val_correction_sleep_amp_prediction_acc: 0.9032 - val_correction_sleep_amp_prediction_binary_crossentropy: 0.4176 - val_correction_sleep_mic_prediction_acc: 0.5068 - val_correction_sleep_mic_prediction_binary_crossentropy: 1.4502 - val_unconstrained_sleep_amp_prediction_acc: 0.8481 - val_unconstrained_sleep_amp_prediction_binary_crossentropy: 0.3573 - val_unconstrained_sleep_mic_prediction_acc: 0.5031 - val_unconstrained_sleep_mic_prediction_binary_crossentropy: 1.4697 - val_z_cond_reconstructed_error_mse: 0.2705 - val_z_cond_reconstructed_error_mae: 0.3996 - val_correction_sleep_cond_reconstructed_error_mse: 0.2969 - val_correction_sleep_cond_reconstructed_error_mae: 0.4155 - val_unconstrained_sleep_cond_reconstructed_error_mse: 2.0135 - val_unconstrained_sleep_cond_reconstructed_error_mae: 1.1098\n",
      "Original positive: GGAGHVPEYFVGIGTPISFYG, \n",
      "generated: GLWIAALLLKLLLKLLKLK'''''', \n",
      "AMP probability: 0.9999992847442627, \n",
      " MIC prediction: 0.9992068409919739. \n",
      "\n",
      "Original negative: FPSELANMKNALGFFHIGEIF, \n",
      "generated: ALAGGLGLEPGLNKILAEGSL'''', \n",
      "AMP probability: 0.09221301972866058, \n",
      "MIC prediction: 1.2346566109044943e-05. \n",
      "\n",
      "Current KL weight is 0.000103045444\n",
      "Current temperature is 1.940891\n",
      "Epoch 4/11\n"
     ]
    },
    {
     "name": "stdout",
     "output_type": "stream",
     "text": [
      "1408/1408 [==============================] - 2454s 2s/step - loss: 2.5923e-04 - amp_prediction_loss: 1.6512e-06 - mic_prediction_loss: 4.1773e-06 - vae_loss_1_loss: 2.5775e-04 - mic_mean_grad_loss: 1.9729e-08 - amp_mean_grad_loss: 5.5971e-08 - unconstrained_sleep_mic_output_grad_input_loss: 2.4078e-08 - unconstrained_sleep_amp_output_grad_input_loss: 5.9034e-08 - correction_sleep_mic_output_grad_loss: 2.2236e-08 - correction_sleep_amp_output_grad_loss: 5.9741e-08 - correction_sleep_amp_prediction_loss: 1.9974e-06 - correction_sleep_mic_prediction_loss: 3.3476e-06 - unconstrained_sleep_amp_prediction_loss: 1.0865e-06 - unconstrained_sleep_mic_prediction_loss: 3.6933e-06 - z_cond_reconstructed_error_loss: 7.8608e-07 - correction_sleep_cond_reconstructed_error_loss: 8.0685e-07 - unconstrained_sleep_cond_reconstructed_error_loss: 5.1026e-06 - amp_prediction_acc: 0.0042 - amp_prediction_binary_crossentropy: 0.6313 - mic_prediction_acc: 0.0000e+00 - mic_prediction_binary_crossentropy: 1.4463 - vae_loss_1__kl_metric: 397.9534 - vae_loss_1__rcl: 1.5391 - vae_loss_1__reconstruction_acc: 0.5235 - vae_loss_1__amino_acc: 0.3121 - vae_loss_1__empty_acc: 0.9963 - mic_mean_grad_mse: 0.0157 - mic_mean_grad_huber_loss: 0.0071 - amp_mean_grad_mse: 0.0749 - amp_mean_grad_huber_loss: 0.0199 - unconstrained_sleep_mic_output_grad_input_mse: 0.0207 - unconstrained_sleep_mic_output_grad_input_huber_loss: 0.0092 - unconstrained_sleep_amp_output_grad_input_mse: 0.0574 - unconstrained_sleep_amp_output_grad_input_huber_loss: 0.0226 - correction_sleep_mic_output_grad_mse: 0.0190 - correction_sleep_mic_output_grad_huber_loss: 0.0084 - correction_sleep_amp_output_grad_mse: 0.0884 - correction_sleep_amp_output_grad_huber_loss: 0.0226 - correction_sleep_amp_prediction_acc: 0.8237 - correction_sleep_amp_prediction_binary_crossentropy: 0.8745 - correction_sleep_mic_prediction_acc: 0.5270 - correction_sleep_mic_prediction_binary_crossentropy: 1.3066 - unconstrained_sleep_amp_prediction_acc: 0.8154 - unconstrained_sleep_amp_prediction_binary_crossentropy: 0.4516 - unconstrained_sleep_mic_prediction_acc: 0.4791 - unconstrained_sleep_mic_prediction_binary_crossentropy: 1.4404 - z_cond_reconstructed_error_mse: 0.3030 - z_cond_reconstructed_error_mae: 0.4118 - correction_sleep_cond_reconstructed_error_mse: 0.3100 - correction_sleep_cond_reconstructed_error_mae: 0.4162 - unconstrained_sleep_cond_reconstructed_error_mse: 1.9529 - unconstrained_sleep_cond_reconstructed_error_mae: 1.0913 - val_loss: 76.2950 - val_amp_prediction_loss: 0.6844 - val_mic_prediction_loss: 0.9030 - val_vae_loss_1_loss: 80.7710 - val_mic_mean_grad_loss: 0.0430 - val_amp_mean_grad_loss: 0.0466 - val_unconstrained_sleep_mic_output_grad_input_loss: 0.0208 - val_unconstrained_sleep_amp_output_grad_input_loss: 0.0213 - val_correction_sleep_mic_output_grad_loss: 0.0470 - val_correction_sleep_amp_output_grad_loss: 0.0604 - val_correction_sleep_amp_prediction_loss: 1.0740 - val_correction_sleep_mic_prediction_loss: 0.9521 - val_unconstrained_sleep_amp_prediction_loss: 0.5103 - val_unconstrained_sleep_mic_prediction_loss: 1.3995 - val_z_cond_reconstructed_error_loss: 0.2938 - val_correction_sleep_cond_reconstructed_error_loss: 0.2973 - val_unconstrained_sleep_cond_reconstructed_error_loss: 1.7186 - val_amp_prediction_acc: 0.0028 - val_amp_prediction_binary_crossentropy: 0.7006 - val_mic_prediction_acc: 0.0000e+00 - val_mic_prediction_binary_crossentropy: 0.9316 - val_vae_loss_1__kl_metric: 448.5573 - val_vae_loss_1__rcl: 1.2593 - val_vae_loss_1__reconstruction_acc: 0.6036 - val_vae_loss_1__amino_acc: 0.4403 - val_vae_loss_1__empty_acc: 0.9996 - val_mic_mean_grad_mse: 0.1010 - val_mic_mean_grad_huber_loss: 0.0430 - val_amp_mean_grad_mse: 0.1986 - val_amp_mean_grad_huber_loss: 0.0466 - val_unconstrained_sleep_mic_output_grad_input_mse: 0.0457 - val_unconstrained_sleep_mic_output_grad_input_huber_loss: 0.0208 - val_unconstrained_sleep_amp_output_grad_input_mse: 0.0497 - val_unconstrained_sleep_amp_output_grad_input_huber_loss: 0.0213 - val_correction_sleep_mic_output_grad_mse: 0.1126 - val_correction_sleep_mic_output_grad_huber_loss: 0.0470 - val_correction_sleep_amp_output_grad_mse: 0.2852 - val_correction_sleep_amp_output_grad_huber_loss: 0.0604 - val_correction_sleep_amp_prediction_acc: 0.7702 - val_correction_sleep_amp_prediction_binary_crossentropy: 1.0900 - val_correction_sleep_mic_prediction_acc: 0.6248 - val_correction_sleep_mic_prediction_binary_crossentropy: 0.9821 - val_unconstrained_sleep_amp_prediction_acc: 0.7870 - val_unconstrained_sleep_amp_prediction_binary_crossentropy: 0.5494 - val_unconstrained_sleep_mic_prediction_acc: 0.4327 - val_unconstrained_sleep_mic_prediction_binary_crossentropy: 1.4332 - val_z_cond_reconstructed_error_mse: 0.2938 - val_z_cond_reconstructed_error_mae: 0.3823 - val_correction_sleep_cond_reconstructed_error_mse: 0.2973 - val_correction_sleep_cond_reconstructed_error_mae: 0.3846 - val_unconstrained_sleep_cond_reconstructed_error_mse: 1.7186 - val_unconstrained_sleep_cond_reconstructed_error_mae: 1.0249\n",
      "Original positive: GGAGHVPEYFVGIGTPISFYG, \n",
      "generated: GFKPILKGGGKGAAALKLL'''''', \n",
      "AMP probability: 0.99993896484375, \n",
      " MIC prediction: 0.9998866319656372. \n",
      "\n",
      "Original negative: FPSELANMKNALGFFHIGEIF, \n",
      "generated: FISTLSKGIDLLFIVKLSLSL'''', \n",
      "AMP probability: 0.9999978542327881, \n",
      "MIC prediction: 0.14599861204624176. \n",
      "\n",
      "Current KL weight is 0.000106183645\n",
      "Current temperature is 1.8835291\n",
      "Epoch 5/11\n",
      "1408/1408 [==============================] - 2345s 2s/step - loss: 1.7080e-04 - amp_prediction_loss: 1.6466e-06 - mic_prediction_loss: 1.1621e-06 - vae_loss_1_loss: 1.6951e-04 - mic_mean_grad_loss: 2.2848e-07 - amp_mean_grad_loss: 2.4530e-07 - unconstrained_sleep_mic_output_grad_input_loss: 1.0576e-07 - unconstrained_sleep_amp_output_grad_input_loss: 6.7918e-08 - correction_sleep_mic_output_grad_loss: 3.1716e-07 - correction_sleep_amp_output_grad_loss: 3.1636e-07 - correction_sleep_amp_prediction_loss: 3.8830e-06 - correction_sleep_mic_prediction_loss: 3.5759e-06 - unconstrained_sleep_amp_prediction_loss: 1.5834e-06 - unconstrained_sleep_mic_prediction_loss: 3.7910e-06 - z_cond_reconstructed_error_loss: 5.9967e-07 - correction_sleep_cond_reconstructed_error_loss: 6.0672e-07 - unconstrained_sleep_cond_reconstructed_error_loss: 3.7676e-06 - amp_prediction_acc: 0.0040 - amp_prediction_binary_crossentropy: 0.6248 - mic_prediction_acc: 0.0000e+00 - mic_prediction_binary_crossentropy: 0.4555 - vae_loss_1__kl_metric: 446.7290 - vae_loss_1__rcl: 1.0149 - vae_loss_1__reconstruction_acc: 0.6766 - vae_loss_1__amino_acc: 0.5607 - vae_loss_1__empty_acc: 0.9975 - mic_mean_grad_mse: 0.2944 - mic_mean_grad_huber_loss: 0.0847 - amp_mean_grad_mse: 0.5014 - amp_mean_grad_huber_loss: 0.0873 - unconstrained_sleep_mic_output_grad_input_mse: 0.0964 - unconstrained_sleep_mic_output_grad_input_huber_loss: 0.0407 - unconstrained_sleep_amp_output_grad_input_mse: 0.0639 - unconstrained_sleep_amp_output_grad_input_huber_loss: 0.0262 - correction_sleep_mic_output_grad_mse: 0.4534 - correction_sleep_mic_output_grad_huber_loss: 0.1209 - correction_sleep_amp_output_grad_mse: 0.7684 - correction_sleep_amp_output_grad_huber_loss: 0.1166 - correction_sleep_amp_prediction_acc: 0.6943 - correction_sleep_amp_prediction_binary_crossentropy: 1.6712 - correction_sleep_mic_prediction_acc: 0.6456 - correction_sleep_mic_prediction_binary_crossentropy: 1.3695 - unconstrained_sleep_amp_prediction_acc: 0.7524 - unconstrained_sleep_amp_prediction_binary_crossentropy: 0.6484 - unconstrained_sleep_mic_prediction_acc: 0.4340 - unconstrained_sleep_mic_prediction_binary_crossentropy: 1.4934 - z_cond_reconstructed_error_mse: 0.2330 - z_cond_reconstructed_error_mae: 0.3288 - correction_sleep_cond_reconstructed_error_mse: 0.2345 - correction_sleep_cond_reconstructed_error_mae: 0.3302 - unconstrained_sleep_cond_reconstructed_error_mse: 1.4490 - unconstrained_sleep_cond_reconstructed_error_mae: 0.9433 - val_loss: 47.2680 - val_amp_prediction_loss: 0.5888 - val_mic_prediction_loss: 0.3047 - val_vae_loss_1_loss: 51.5580 - val_mic_mean_grad_loss: 0.0828 - val_amp_mean_grad_loss: 0.1282 - val_unconstrained_sleep_mic_output_grad_input_loss: 0.0555 - val_unconstrained_sleep_amp_output_grad_input_loss: 0.0321 - val_correction_sleep_mic_output_grad_loss: 0.1408 - val_correction_sleep_amp_output_grad_loss: 0.1619 - val_correction_sleep_amp_prediction_loss: 1.9433 - val_correction_sleep_mic_prediction_loss: 1.9962 - val_unconstrained_sleep_amp_prediction_loss: 0.6577 - val_unconstrained_sleep_mic_prediction_loss: 1.4588 - val_z_cond_reconstructed_error_loss: 0.1838 - val_correction_sleep_cond_reconstructed_error_loss: 0.1851 - val_unconstrained_sleep_cond_reconstructed_error_loss: 1.3799 - val_amp_prediction_acc: 0.0029 - val_amp_prediction_binary_crossentropy: 0.6042 - val_mic_prediction_acc: 0.0000e+00 - val_mic_prediction_binary_crossentropy: 0.3134 - val_vae_loss_1__kl_metric: 454.5911 - val_vae_loss_1__rcl: 0.8015 - val_vae_loss_1__reconstruction_acc: 0.7441 - val_vae_loss_1__amino_acc: 0.6627 - val_vae_loss_1__empty_acc: 1.0000 - val_mic_mean_grad_mse: 0.3604 - val_mic_mean_grad_huber_loss: 0.0828 - val_amp_mean_grad_mse: 0.9573 - val_amp_mean_grad_huber_loss: 0.1282 - val_unconstrained_sleep_mic_output_grad_input_mse: 0.1370 - val_unconstrained_sleep_mic_output_grad_input_huber_loss: 0.0555 - val_unconstrained_sleep_amp_output_grad_input_mse: 0.0840 - val_unconstrained_sleep_amp_output_grad_input_huber_loss: 0.0321 - val_correction_sleep_mic_output_grad_mse: 0.6709 - val_correction_sleep_mic_output_grad_huber_loss: 0.1408 - val_correction_sleep_amp_output_grad_mse: 1.2776 - val_correction_sleep_amp_output_grad_huber_loss: 0.1619 - val_correction_sleep_amp_prediction_acc: 0.6556 - val_correction_sleep_amp_prediction_binary_crossentropy: 1.9592 - val_correction_sleep_mic_prediction_acc: 0.6299 - val_correction_sleep_mic_prediction_binary_crossentropy: 2.0084 - val_unconstrained_sleep_amp_prediction_acc: 0.7377 - val_unconstrained_sleep_amp_prediction_binary_crossentropy: 0.6971 - val_unconstrained_sleep_mic_prediction_acc: 0.4450 - val_unconstrained_sleep_mic_prediction_binary_crossentropy: 1.4942 - val_z_cond_reconstructed_error_mse: 0.1838 - val_z_cond_reconstructed_error_mae: 0.2799 - val_correction_sleep_cond_reconstructed_error_mse: 0.1851 - val_correction_sleep_cond_reconstructed_error_mae: 0.2810 - val_unconstrained_sleep_cond_reconstructed_error_mse: 1.3799 - val_unconstrained_sleep_cond_reconstructed_error_mae: 0.9188\n"
     ]
    },
    {
     "name": "stdout",
     "output_type": "stream",
     "text": [
      "Original positive: GGAGHVPEYFVGIGTPISFYG, \n",
      "generated: GFKDLLKGAAKALGKALKF'''''', \n",
      "AMP probability: 0.9999983310699463, \n",
      " MIC prediction: 0.9996727705001831. \n",
      "\n",
      "Original negative: FPSELANMKNALGFFHIGEIF, \n",
      "generated: FPSELSKMKKLLGVVAIIAPF'''', \n",
      "AMP probability: 0.001087967655621469, \n",
      "MIC prediction: 0.9999715089797974. \n",
      "\n",
      "Current KL weight is 0.00011051708\n",
      "Current temperature is 1.8096749\n",
      "Epoch 6/11\n",
      "1408/1408 [==============================] - 2346s 2s/step - loss: 1.1369e-04 - amp_prediction_loss: 1.4188e-06 - mic_prediction_loss: 4.8069e-07 - vae_loss_1_loss: 1.1228e-04 - mic_mean_grad_loss: 2.3019e-07 - amp_mean_grad_loss: 4.3417e-07 - unconstrained_sleep_mic_output_grad_input_loss: 1.8769e-07 - unconstrained_sleep_amp_output_grad_input_loss: 9.3316e-08 - correction_sleep_mic_output_grad_loss: 4.4817e-07 - correction_sleep_amp_output_grad_loss: 5.8827e-07 - correction_sleep_amp_prediction_loss: 4.9050e-06 - correction_sleep_mic_prediction_loss: 6.5744e-06 - unconstrained_sleep_amp_prediction_loss: 1.8592e-06 - unconstrained_sleep_mic_prediction_loss: 3.8454e-06 - z_cond_reconstructed_error_loss: 4.1226e-07 - correction_sleep_cond_reconstructed_error_loss: 4.1341e-07 - unconstrained_sleep_cond_reconstructed_error_loss: 3.4264e-06 - amp_prediction_acc: 0.0040 - amp_prediction_binary_crossentropy: 0.5421 - mic_prediction_acc: 0.0000e+00 - mic_prediction_binary_crossentropy: 0.2085 - vae_loss_1__kl_metric: 448.2883 - vae_loss_1__rcl: 0.6707 - vae_loss_1__reconstruction_acc: 0.7826 - vae_loss_1__amino_acc: 0.7191 - vae_loss_1__empty_acc: 0.9984 - mic_mean_grad_mse: 0.5509 - mic_mean_grad_huber_loss: 0.0922 - amp_mean_grad_mse: 1.1711 - amp_mean_grad_huber_loss: 0.1554 - unconstrained_sleep_mic_output_grad_input_mse: 0.1930 - unconstrained_sleep_mic_output_grad_input_huber_loss: 0.0723 - unconstrained_sleep_amp_output_grad_input_mse: 0.0973 - unconstrained_sleep_amp_output_grad_input_huber_loss: 0.0360 - correction_sleep_mic_output_grad_mse: 1.1934 - correction_sleep_mic_output_grad_huber_loss: 0.1785 - correction_sleep_amp_output_grad_mse: 1.9688 - correction_sleep_amp_output_grad_huber_loss: 0.2149 - correction_sleep_amp_prediction_acc: 0.6289 - correction_sleep_amp_prediction_binary_crossentropy: 2.0928 - correction_sleep_mic_prediction_acc: 0.6122 - correction_sleep_mic_prediction_binary_crossentropy: 2.4302 - unconstrained_sleep_amp_prediction_acc: 0.7129 - unconstrained_sleep_amp_prediction_binary_crossentropy: 0.7553 - unconstrained_sleep_mic_prediction_acc: 0.4776 - unconstrained_sleep_mic_prediction_binary_crossentropy: 1.5141 - z_cond_reconstructed_error_mse: 0.1612 - z_cond_reconstructed_error_mae: 0.2568 - correction_sleep_cond_reconstructed_error_mse: 0.1611 - correction_sleep_cond_reconstructed_error_mae: 0.2569 - unconstrained_sleep_cond_reconstructed_error_mse: 1.3193 - unconstrained_sleep_cond_reconstructed_error_mae: 0.9004 - val_loss: 33.2215 - val_amp_prediction_loss: 0.4725 - val_mic_prediction_loss: 0.1841 - val_vae_loss_1_loss: 34.9613 - val_mic_mean_grad_loss: 0.0860 - val_amp_mean_grad_loss: 0.1794 - val_unconstrained_sleep_mic_output_grad_input_loss: 0.0820 - val_unconstrained_sleep_amp_output_grad_input_loss: 0.0395 - val_correction_sleep_mic_output_grad_loss: 0.1576 - val_correction_sleep_amp_output_grad_loss: 0.2390 - val_correction_sleep_amp_prediction_loss: 2.2294 - val_correction_sleep_mic_prediction_loss: 3.0662 - val_unconstrained_sleep_amp_prediction_loss: 0.7171 - val_unconstrained_sleep_mic_prediction_loss: 1.4327 - val_z_cond_reconstructed_error_loss: 0.1423 - val_correction_sleep_cond_reconstructed_error_loss: 0.1423 - val_unconstrained_sleep_cond_reconstructed_error_loss: 1.2970 - val_amp_prediction_acc: 0.0028 - val_amp_prediction_binary_crossentropy: 0.4891 - val_mic_prediction_acc: 0.0000e+00 - val_mic_prediction_binary_crossentropy: 0.1893 - val_vae_loss_1__kl_metric: 450.2318 - val_vae_loss_1__rcl: 0.5415 - val_vae_loss_1__reconstruction_acc: 0.8255 - val_vae_loss_1__amino_acc: 0.7803 - val_vae_loss_1__empty_acc: 1.0000 - val_mic_mean_grad_mse: 0.5958 - val_mic_mean_grad_huber_loss: 0.0860 - val_amp_mean_grad_mse: 1.3871 - val_amp_mean_grad_huber_loss: 0.1794 - val_unconstrained_sleep_mic_output_grad_input_mse: 0.2284 - val_unconstrained_sleep_mic_output_grad_input_huber_loss: 0.0820 - val_unconstrained_sleep_amp_output_grad_input_mse: 0.1110 - val_unconstrained_sleep_amp_output_grad_input_huber_loss: 0.0395 - val_correction_sleep_mic_output_grad_mse: 1.2201 - val_correction_sleep_mic_output_grad_huber_loss: 0.1576 - val_correction_sleep_amp_output_grad_mse: 2.1446 - val_correction_sleep_amp_output_grad_huber_loss: 0.2390 - val_correction_sleep_amp_prediction_acc: 0.5923 - val_correction_sleep_amp_prediction_binary_crossentropy: 2.2470 - val_correction_sleep_mic_prediction_acc: 0.5753 - val_correction_sleep_mic_prediction_binary_crossentropy: 3.0736 - val_unconstrained_sleep_amp_prediction_acc: 0.7106 - val_unconstrained_sleep_amp_prediction_binary_crossentropy: 0.7575 - val_unconstrained_sleep_mic_prediction_acc: 0.5013 - val_unconstrained_sleep_mic_prediction_binary_crossentropy: 1.4659 - val_z_cond_reconstructed_error_mse: 0.1423 - val_z_cond_reconstructed_error_mae: 0.2344 - val_correction_sleep_cond_reconstructed_error_mse: 0.1423 - val_correction_sleep_cond_reconstructed_error_mae: 0.2344 - val_unconstrained_sleep_cond_reconstructed_error_mse: 1.2970 - val_unconstrained_sleep_cond_reconstructed_error_mae: 0.8921\n",
      "Original positive: GGAGHVPEYFVGIGTPISFYG, \n",
      "generated: GFKDLLKGAAKALVKILSF'''''', \n",
      "AMP probability: 0.9999954700469971, \n",
      " MIC prediction: 0.9997878670692444. \n",
      "\n",
      "Original negative: FPSELANMKNALGFFHIGEIF, \n",
      "generated: FPSELANMKEALGFFDFIFHF'''', \n",
      "AMP probability: 0.2493746429681778, \n",
      "MIC prediction: 1.873898554549669e-06. \n",
      "\n",
      "Current KL weight is 0.000116183415\n",
      "Current temperature is 1.721416\n",
      "Epoch 7/11\n"
     ]
    },
    {
     "name": "stdout",
     "output_type": "stream",
     "text": [
      "1408/1408 [==============================] - 2347s 2s/step - loss: 8.4189e-05 - amp_prediction_loss: 1.2177e-06 - mic_prediction_loss: 3.6002e-07 - vae_loss_1_loss: 8.2678e-05 - mic_mean_grad_loss: 2.0557e-07 - amp_mean_grad_loss: 5.5054e-07 - unconstrained_sleep_mic_output_grad_input_loss: 2.3894e-07 - unconstrained_sleep_amp_output_grad_input_loss: 1.1044e-07 - correction_sleep_mic_output_grad_loss: 4.5743e-07 - correction_sleep_amp_output_grad_loss: 7.4547e-07 - correction_sleep_amp_prediction_loss: 5.5670e-06 - correction_sleep_mic_prediction_loss: 8.5525e-06 - unconstrained_sleep_amp_prediction_loss: 1.9277e-06 - unconstrained_sleep_mic_prediction_loss: 3.7263e-06 - z_cond_reconstructed_error_loss: 3.1040e-07 - correction_sleep_cond_reconstructed_error_loss: 3.1049e-07 - unconstrained_sleep_cond_reconstructed_error_loss: 3.2773e-06 - amp_prediction_acc: 0.0040 - amp_prediction_binary_crossentropy: 0.4682 - mic_prediction_acc: 0.0000e+00 - mic_prediction_binary_crossentropy: 0.1578 - vae_loss_1__kl_metric: 439.9197 - vae_loss_1__rcl: 0.4923 - vae_loss_1__reconstruction_acc: 0.8405 - vae_loss_1__amino_acc: 0.8003 - vae_loss_1__empty_acc: 0.9991 - mic_mean_grad_mse: 0.7052 - mic_mean_grad_huber_loss: 0.0852 - amp_mean_grad_mse: 1.7088 - amp_mean_grad_huber_loss: 0.1978 - unconstrained_sleep_mic_output_grad_input_mse: 0.2768 - unconstrained_sleep_mic_output_grad_input_huber_loss: 0.0921 - unconstrained_sleep_amp_output_grad_input_mse: 0.1259 - unconstrained_sleep_amp_output_grad_input_huber_loss: 0.0425 - correction_sleep_mic_output_grad_mse: 1.8217 - correction_sleep_mic_output_grad_huber_loss: 0.1876 - correction_sleep_amp_output_grad_mse: 2.7827 - correction_sleep_amp_output_grad_huber_loss: 0.2714 - correction_sleep_amp_prediction_acc: 0.5901 - correction_sleep_amp_prediction_binary_crossentropy: 2.3646 - correction_sleep_mic_prediction_acc: 0.5772 - correction_sleep_mic_prediction_binary_crossentropy: 3.1505 - unconstrained_sleep_amp_prediction_acc: 0.6959 - unconstrained_sleep_amp_prediction_binary_crossentropy: 0.7833 - unconstrained_sleep_mic_prediction_acc: 0.5239 - unconstrained_sleep_mic_prediction_binary_crossentropy: 1.4659 - z_cond_reconstructed_error_mse: 0.1221 - z_cond_reconstructed_error_mae: 0.2186 - correction_sleep_cond_reconstructed_error_mse: 0.1218 - correction_sleep_cond_reconstructed_error_mae: 0.2186 - unconstrained_sleep_cond_reconstructed_error_mse: 1.2624 - unconstrained_sleep_cond_reconstructed_error_mae: 0.8818 - val_loss: 24.3684 - val_amp_prediction_loss: 0.4004 - val_mic_prediction_loss: 0.1325 - val_vae_loss_1_loss: 26.0793 - val_mic_mean_grad_loss: 0.0663 - val_amp_mean_grad_loss: 0.2025 - val_unconstrained_sleep_mic_output_grad_input_loss: 0.0961 - val_unconstrained_sleep_amp_output_grad_input_loss: 0.0444 - val_correction_sleep_mic_output_grad_loss: 0.1361 - val_correction_sleep_amp_output_grad_loss: 0.2650 - val_correction_sleep_amp_prediction_loss: 2.4371 - val_correction_sleep_mic_prediction_loss: 3.6266 - val_unconstrained_sleep_amp_prediction_loss: 0.7240 - val_unconstrained_sleep_mic_prediction_loss: 1.3511 - val_z_cond_reconstructed_error_loss: 0.1218 - val_correction_sleep_cond_reconstructed_error_loss: 0.1216 - val_unconstrained_sleep_cond_reconstructed_error_loss: 1.2330 - val_amp_prediction_acc: 0.0029 - val_amp_prediction_binary_crossentropy: 0.4173 - val_mic_prediction_acc: 0.0000e+00 - val_mic_prediction_binary_crossentropy: 0.1367 - val_vae_loss_1__kl_metric: 437.6949 - val_vae_loss_1__rcl: 0.4022 - val_vae_loss_1__reconstruction_acc: 0.8718 - val_vae_loss_1__amino_acc: 0.8443 - val_vae_loss_1__empty_acc: 0.9999 - val_mic_mean_grad_mse: 0.5552 - val_mic_mean_grad_huber_loss: 0.0663 - val_amp_mean_grad_mse: 1.8496 - val_amp_mean_grad_huber_loss: 0.2025 - val_unconstrained_sleep_mic_output_grad_input_mse: 0.2931 - val_unconstrained_sleep_mic_output_grad_input_huber_loss: 0.0961 - val_unconstrained_sleep_amp_output_grad_input_mse: 0.1377 - val_unconstrained_sleep_amp_output_grad_input_huber_loss: 0.0444 - val_correction_sleep_mic_output_grad_mse: 1.2754 - val_correction_sleep_mic_output_grad_huber_loss: 0.1361 - val_correction_sleep_amp_output_grad_mse: 2.7184 - val_correction_sleep_amp_output_grad_huber_loss: 0.2650 - val_correction_sleep_amp_prediction_acc: 0.5719 - val_correction_sleep_amp_prediction_binary_crossentropy: 2.4549 - val_correction_sleep_mic_prediction_acc: 0.5475 - val_correction_sleep_mic_prediction_binary_crossentropy: 3.6326 - val_unconstrained_sleep_amp_prediction_acc: 0.7018 - val_unconstrained_sleep_amp_prediction_binary_crossentropy: 0.7653 - val_unconstrained_sleep_mic_prediction_acc: 0.5432 - val_unconstrained_sleep_mic_prediction_binary_crossentropy: 1.3825 - val_z_cond_reconstructed_error_mse: 0.1218 - val_z_cond_reconstructed_error_mae: 0.2130 - val_correction_sleep_cond_reconstructed_error_mse: 0.1216 - val_correction_sleep_cond_reconstructed_error_mae: 0.2129 - val_unconstrained_sleep_cond_reconstructed_error_mse: 1.2330 - val_unconstrained_sleep_cond_reconstructed_error_mae: 0.8718\n",
      "Original positive: GGAGHVPEYFVGIGTPISFYG, \n",
      "generated: GFKDLLKGAAKALVKHILF'''''', \n",
      "AMP probability: 0.9999958276748657, \n",
      " MIC prediction: 0.9996401071548462. \n",
      "\n",
      "Original negative: FPSELANMKNALGFFHIGEIF, \n",
      "generated: FPSELANMKEALGFFHFIPFF'''', \n",
      "AMP probability: 0.43493711948394775, \n",
      "MIC prediction: 4.360827460914152e-06. \n",
      "\n",
      "Current KL weight is 0.00012336779\n",
      "Current temperature is 1.6211685\n",
      "Epoch 8/11\n",
      "1408/1408 [==============================] - 2346s 2s/step - loss: 6.5953e-05 - amp_prediction_loss: 1.0699e-06 - mic_prediction_loss: 3.0335e-07 - vae_loss_1_loss: 6.4391e-05 - mic_mean_grad_loss: 2.0390e-07 - amp_mean_grad_loss: 6.3899e-07 - unconstrained_sleep_mic_output_grad_input_loss: 2.6871e-07 - unconstrained_sleep_amp_output_grad_input_loss: 1.2333e-07 - correction_sleep_mic_output_grad_loss: 4.4503e-07 - correction_sleep_amp_output_grad_loss: 8.3931e-07 - correction_sleep_amp_prediction_loss: 5.9856e-06 - correction_sleep_mic_prediction_loss: 9.7642e-06 - unconstrained_sleep_amp_prediction_loss: 1.9363e-06 - unconstrained_sleep_mic_prediction_loss: 3.4696e-06 - z_cond_reconstructed_error_loss: 2.6709e-07 - correction_sleep_cond_reconstructed_error_loss: 2.6677e-07 - unconstrained_sleep_cond_reconstructed_error_loss: 3.1915e-06 - amp_prediction_acc: 0.0039 - amp_prediction_binary_crossentropy: 0.4135 - mic_prediction_acc: 0.0000e+00 - mic_prediction_binary_crossentropy: 0.1332 - vae_loss_1__kl_metric: 428.1055 - vae_loss_1__rcl: 0.3817 - vae_loss_1__reconstruction_acc: 0.8766 - vae_loss_1__amino_acc: 0.8491 - vae_loss_1__empty_acc: 0.9992 - mic_mean_grad_mse: 0.8756 - mic_mean_grad_huber_loss: 0.0849 - amp_mean_grad_mse: 2.2602 - amp_mean_grad_huber_loss: 0.2310 - unconstrained_sleep_mic_output_grad_input_mse: 0.3391 - unconstrained_sleep_mic_output_grad_input_huber_loss: 0.1035 - unconstrained_sleep_amp_output_grad_input_mse: 0.1542 - unconstrained_sleep_amp_output_grad_input_huber_loss: 0.0477 - correction_sleep_mic_output_grad_mse: 2.2975 - correction_sleep_mic_output_grad_huber_loss: 0.1851 - correction_sleep_amp_output_grad_mse: 3.4568 - correction_sleep_amp_output_grad_huber_loss: 0.3045 - correction_sleep_amp_prediction_acc: 0.5688 - correction_sleep_amp_prediction_binary_crossentropy: 2.5329 - correction_sleep_mic_prediction_acc: 0.5555 - correction_sleep_mic_prediction_binary_crossentropy: 3.6011 - unconstrained_sleep_amp_prediction_acc: 0.6909 - unconstrained_sleep_amp_prediction_binary_crossentropy: 0.7874 - unconstrained_sleep_mic_prediction_acc: 0.5647 - unconstrained_sleep_mic_prediction_binary_crossentropy: 1.3657 - z_cond_reconstructed_error_mse: 0.1061 - z_cond_reconstructed_error_mae: 0.2010 - correction_sleep_cond_reconstructed_error_mse: 0.1057 - correction_sleep_cond_reconstructed_error_mae: 0.2010 - unconstrained_sleep_cond_reconstructed_error_mse: 1.2292 - unconstrained_sleep_cond_reconstructed_error_mae: 0.8709 - val_loss: 20.7106 - val_amp_prediction_loss: 0.3590 - val_mic_prediction_loss: 0.1075 - val_vae_loss_1_loss: 21.3405 - val_mic_mean_grad_loss: 0.0630 - val_amp_mean_grad_loss: 0.2099 - val_unconstrained_sleep_mic_output_grad_input_loss: 0.1031 - val_unconstrained_sleep_amp_output_grad_input_loss: 0.0493 - val_correction_sleep_mic_output_grad_loss: 0.1319 - val_correction_sleep_amp_output_grad_loss: 0.2692 - val_correction_sleep_amp_prediction_loss: 2.5767 - val_correction_sleep_mic_prediction_loss: 3.9734 - val_unconstrained_sleep_amp_prediction_loss: 0.7338 - val_unconstrained_sleep_mic_prediction_loss: 1.2162 - val_z_cond_reconstructed_error_loss: 0.0984 - val_correction_sleep_cond_reconstructed_error_loss: 0.0984 - val_unconstrained_sleep_cond_reconstructed_error_loss: 1.2218 - val_amp_prediction_acc: 0.0029 - val_amp_prediction_binary_crossentropy: 0.3761 - val_mic_prediction_acc: 0.0000e+00 - val_mic_prediction_binary_crossentropy: 0.1113 - val_vae_loss_1__kl_metric: 423.5905 - val_vae_loss_1__rcl: 0.3278 - val_vae_loss_1__reconstruction_acc: 0.8970 - val_vae_loss_1__amino_acc: 0.8778 - val_vae_loss_1__empty_acc: 1.0000 - val_mic_mean_grad_mse: 0.6284 - val_mic_mean_grad_huber_loss: 0.0630 - val_amp_mean_grad_mse: 1.9090 - val_amp_mean_grad_huber_loss: 0.2099 - val_unconstrained_sleep_mic_output_grad_input_mse: 0.3539 - val_unconstrained_sleep_mic_output_grad_input_huber_loss: 0.1031 - val_unconstrained_sleep_amp_output_grad_input_mse: 0.1656 - val_unconstrained_sleep_amp_output_grad_input_huber_loss: 0.0493 - val_correction_sleep_mic_output_grad_mse: 1.7011 - val_correction_sleep_mic_output_grad_huber_loss: 0.1319 - val_correction_sleep_amp_output_grad_mse: 2.9453 - val_correction_sleep_amp_output_grad_huber_loss: 0.2692 - val_correction_sleep_amp_prediction_acc: 0.5542 - val_correction_sleep_amp_prediction_binary_crossentropy: 2.5944 - val_correction_sleep_mic_prediction_acc: 0.5351 - val_correction_sleep_mic_prediction_binary_crossentropy: 3.9785 - val_unconstrained_sleep_amp_prediction_acc: 0.6949 - val_unconstrained_sleep_amp_prediction_binary_crossentropy: 0.7757 - val_unconstrained_sleep_mic_prediction_acc: 0.5877 - val_unconstrained_sleep_mic_prediction_binary_crossentropy: 1.2462 - val_z_cond_reconstructed_error_mse: 0.0984 - val_z_cond_reconstructed_error_mae: 0.1913 - val_correction_sleep_cond_reconstructed_error_mse: 0.0984 - val_correction_sleep_cond_reconstructed_error_mae: 0.1915 - val_unconstrained_sleep_cond_reconstructed_error_mse: 1.2218 - val_unconstrained_sleep_cond_reconstructed_error_mae: 0.8676\n"
     ]
    },
    {
     "name": "stdout",
     "output_type": "stream",
     "text": [
      "Original positive: GGAGHVPEYFVGIGTPISFYG, \n",
      "generated: GFKDLLKGAAKALVKVVLF'''''', \n",
      "AMP probability: 0.9999972581863403, \n",
      " MIC prediction: 0.9998102784156799. \n",
      "\n",
      "Original negative: FPSELANMKNALGFFHIGEIF, \n",
      "generated: FPSELANMKEALGFFHIGEDF'''', \n",
      "AMP probability: 0.005511771887540817, \n",
      "MIC prediction: 5.271908321446972e-06. \n",
      "\n",
      "Current KL weight is 0.00013231297\n",
      "Current temperature is 1.5115675\n",
      "Epoch 9/11\n",
      "1408/1408 [==============================] - 2345s 2s/step - loss: 5.5727e-05 - amp_prediction_loss: 9.7295e-07 - mic_prediction_loss: 2.6109e-07 - vae_loss_1_loss: 5.4149e-05 - mic_mean_grad_loss: 1.9176e-07 - amp_mean_grad_loss: 6.5032e-07 - unconstrained_sleep_mic_output_grad_input_loss: 2.8371e-07 - unconstrained_sleep_amp_output_grad_input_loss: 1.3480e-07 - correction_sleep_mic_output_grad_loss: 4.0799e-07 - correction_sleep_amp_output_grad_loss: 8.4689e-07 - correction_sleep_amp_prediction_loss: 6.2806e-06 - correction_sleep_mic_prediction_loss: 1.0574e-05 - unconstrained_sleep_amp_prediction_loss: 1.9051e-06 - unconstrained_sleep_mic_prediction_loss: 3.1410e-06 - z_cond_reconstructed_error_loss: 2.3162e-07 - correction_sleep_cond_reconstructed_error_loss: 2.3121e-07 - unconstrained_sleep_cond_reconstructed_error_loss: 3.1538e-06 - amp_prediction_acc: 0.0039 - amp_prediction_binary_crossentropy: 0.3778 - mic_prediction_acc: 0.0000e+00 - mic_prediction_binary_crossentropy: 0.1150 - vae_loss_1__kl_metric: 411.8437 - vae_loss_1__rcl: 0.3200 - vae_loss_1__reconstruction_acc: 0.8981 - vae_loss_1__amino_acc: 0.8773 - vae_loss_1__empty_acc: 0.9991 - mic_mean_grad_mse: 0.9696 - mic_mean_grad_huber_loss: 0.0803 - amp_mean_grad_mse: 2.3099 - amp_mean_grad_huber_loss: 0.2356 - unconstrained_sleep_mic_output_grad_input_mse: 0.3822 - unconstrained_sleep_mic_output_grad_input_huber_loss: 0.1093 - unconstrained_sleep_amp_output_grad_input_mse: 0.1780 - unconstrained_sleep_amp_output_grad_input_huber_loss: 0.0519 - correction_sleep_mic_output_grad_mse: 2.4455 - correction_sleep_mic_output_grad_huber_loss: 0.1701 - correction_sleep_amp_output_grad_mse: 3.7154 - correction_sleep_amp_output_grad_huber_loss: 0.3066 - correction_sleep_amp_prediction_acc: 0.5524 - correction_sleep_amp_prediction_binary_crossentropy: 2.6497 - correction_sleep_mic_prediction_acc: 0.5402 - correction_sleep_mic_prediction_binary_crossentropy: 3.9099 - unconstrained_sleep_amp_prediction_acc: 0.6874 - unconstrained_sleep_amp_prediction_binary_crossentropy: 0.7761 - unconstrained_sleep_mic_prediction_acc: 0.6038 - unconstrained_sleep_mic_prediction_binary_crossentropy: 1.2391 - z_cond_reconstructed_error_mse: 0.0927 - z_cond_reconstructed_error_mae: 0.1877 - correction_sleep_cond_reconstructed_error_mse: 0.0923 - correction_sleep_cond_reconstructed_error_mae: 0.1878 - unconstrained_sleep_cond_reconstructed_error_mse: 1.2152 - unconstrained_sleep_cond_reconstructed_error_mae: 0.8664 - val_loss: 18.8860 - val_amp_prediction_loss: 0.3181 - val_mic_prediction_loss: 0.0873 - val_vae_loss_1_loss: 17.8915 - val_mic_mean_grad_loss: 0.0576 - val_amp_mean_grad_loss: 0.2157 - val_unconstrained_sleep_mic_output_grad_input_loss: 0.1056 - val_unconstrained_sleep_amp_output_grad_input_loss: 0.0541 - val_correction_sleep_mic_output_grad_loss: 0.1280 - val_correction_sleep_amp_output_grad_loss: 0.2725 - val_correction_sleep_amp_prediction_loss: 2.6290 - val_correction_sleep_mic_prediction_loss: 4.1712 - val_unconstrained_sleep_amp_prediction_loss: 0.7130 - val_unconstrained_sleep_mic_prediction_loss: 1.0884 - val_z_cond_reconstructed_error_loss: 0.0934 - val_correction_sleep_cond_reconstructed_error_loss: 0.0933 - val_unconstrained_sleep_cond_reconstructed_error_loss: 1.2015 - val_amp_prediction_acc: 0.0028 - val_amp_prediction_binary_crossentropy: 0.3356 - val_mic_prediction_acc: 0.0000e+00 - val_mic_prediction_binary_crossentropy: 0.0910 - val_vae_loss_1__kl_metric: 407.6074 - val_vae_loss_1__rcl: 0.2736 - val_vae_loss_1__reconstruction_acc: 0.9146 - val_vae_loss_1__amino_acc: 0.9011 - val_vae_loss_1__empty_acc: 1.0000 - val_mic_mean_grad_mse: 0.5997 - val_mic_mean_grad_huber_loss: 0.0576 - val_amp_mean_grad_mse: 2.1478 - val_amp_mean_grad_huber_loss: 0.2157 - val_unconstrained_sleep_mic_output_grad_input_mse: 0.3668 - val_unconstrained_sleep_mic_output_grad_input_huber_loss: 0.1056 - val_unconstrained_sleep_amp_output_grad_input_mse: 0.1928 - val_unconstrained_sleep_amp_output_grad_input_huber_loss: 0.0541 - val_correction_sleep_mic_output_grad_mse: 1.9356 - val_correction_sleep_mic_output_grad_huber_loss: 0.1280 - val_correction_sleep_amp_output_grad_mse: 3.1396 - val_correction_sleep_amp_output_grad_huber_loss: 0.2725 - val_correction_sleep_amp_prediction_acc: 0.5394 - val_correction_sleep_amp_prediction_binary_crossentropy: 2.6472 - val_correction_sleep_mic_prediction_acc: 0.5259 - val_correction_sleep_mic_prediction_binary_crossentropy: 4.1761 - val_unconstrained_sleep_amp_prediction_acc: 0.6990 - val_unconstrained_sleep_amp_prediction_binary_crossentropy: 0.7549 - val_unconstrained_sleep_mic_prediction_acc: 0.6286 - val_unconstrained_sleep_mic_prediction_binary_crossentropy: 1.1169 - val_z_cond_reconstructed_error_mse: 0.0934 - val_z_cond_reconstructed_error_mae: 0.1848 - val_correction_sleep_cond_reconstructed_error_mse: 0.0933 - val_correction_sleep_cond_reconstructed_error_mae: 0.1850 - val_unconstrained_sleep_cond_reconstructed_error_mse: 1.2015 - val_unconstrained_sleep_cond_reconstructed_error_mae: 0.8621\n",
      "Original positive: GGAGHVPEYFVGIGTPISFYG, \n",
      "generated: GFKDLLKGAAKALVKTVLF'''''', \n",
      "AMP probability: 0.9999939203262329, \n",
      " MIC prediction: 0.9999513626098633. \n",
      "\n",
      "Original negative: FPSELANMKNALGFFHIGEIF, \n",
      "generated: FPSELANMKNALGFFDIFIHF'''', \n",
      "AMP probability: 0.9703662991523743, \n",
      "MIC prediction: 4.490822448133258e-06. \n",
      "\n",
      "Current KL weight is 0.00014333293\n",
      "Current temperature is 1.3953526\n",
      "Epoch 10/11\n"
     ]
    },
    {
     "name": "stdout",
     "output_type": "stream",
     "text": [
      "1408/1408 [==============================] - 2346s 2s/step - loss: 4.9826e-05 - amp_prediction_loss: 9.2391e-07 - mic_prediction_loss: 2.4264e-07 - vae_loss_1_loss: 4.8251e-05 - mic_mean_grad_loss: 1.9306e-07 - amp_mean_grad_loss: 6.7136e-07 - unconstrained_sleep_mic_output_grad_input_loss: 2.9356e-07 - unconstrained_sleep_amp_output_grad_input_loss: 1.4379e-07 - correction_sleep_mic_output_grad_loss: 3.8362e-07 - correction_sleep_amp_output_grad_loss: 8.7050e-07 - correction_sleep_amp_prediction_loss: 6.3599e-06 - correction_sleep_mic_prediction_loss: 1.0965e-05 - unconstrained_sleep_amp_prediction_loss: 1.8419e-06 - unconstrained_sleep_mic_prediction_loss: 2.8024e-06 - z_cond_reconstructed_error_loss: 2.1857e-07 - correction_sleep_cond_reconstructed_error_loss: 2.1824e-07 - unconstrained_sleep_cond_reconstructed_error_loss: 3.1332e-06 - amp_prediction_acc: 0.0039 - amp_prediction_binary_crossentropy: 0.3603 - mic_prediction_acc: 0.0000e+00 - mic_prediction_binary_crossentropy: 0.1068 - vae_loss_1__kl_metric: 396.8917 - vae_loss_1__rcl: 0.2838 - vae_loss_1__reconstruction_acc: 0.9105 - vae_loss_1__amino_acc: 0.8933 - vae_loss_1__empty_acc: 0.9990 - mic_mean_grad_mse: 1.0810 - mic_mean_grad_huber_loss: 0.0807 - amp_mean_grad_mse: 2.6012 - amp_mean_grad_huber_loss: 0.2435 - unconstrained_sleep_mic_output_grad_input_mse: 0.4261 - unconstrained_sleep_mic_output_grad_input_huber_loss: 0.1133 - unconstrained_sleep_amp_output_grad_input_mse: 0.2050 - unconstrained_sleep_amp_output_grad_input_huber_loss: 0.0553 - correction_sleep_mic_output_grad_mse: 2.5401 - correction_sleep_mic_output_grad_huber_loss: 0.1604 - correction_sleep_amp_output_grad_mse: 4.0213 - correction_sleep_amp_output_grad_huber_loss: 0.3157 - correction_sleep_amp_prediction_acc: 0.5462 - correction_sleep_amp_prediction_binary_crossentropy: 2.6778 - correction_sleep_mic_prediction_acc: 0.5344 - correction_sleep_mic_prediction_binary_crossentropy: 4.0607 - unconstrained_sleep_amp_prediction_acc: 0.6958 - unconstrained_sleep_amp_prediction_binary_crossentropy: 0.7504 - unconstrained_sleep_mic_prediction_acc: 0.6465 - unconstrained_sleep_mic_prediction_binary_crossentropy: 1.1056 - z_cond_reconstructed_error_mse: 0.0880 - z_cond_reconstructed_error_mae: 0.1814 - correction_sleep_cond_reconstructed_error_mse: 0.0877 - correction_sleep_cond_reconstructed_error_mae: 0.1816 - unconstrained_sleep_cond_reconstructed_error_mse: 1.2071 - unconstrained_sleep_cond_reconstructed_error_mae: 0.8644 - val_loss: 13.9182 - val_amp_prediction_loss: 0.2899 - val_mic_prediction_loss: 0.0752 - val_vae_loss_1_loss: 14.5239 - val_mic_mean_grad_loss: 0.0453 - val_amp_mean_grad_loss: 0.1794 - val_unconstrained_sleep_mic_output_grad_input_loss: 0.1090 - val_unconstrained_sleep_amp_output_grad_input_loss: 0.0577 - val_correction_sleep_mic_output_grad_loss: 0.0958 - val_correction_sleep_amp_output_grad_loss: 0.2309 - val_correction_sleep_amp_prediction_loss: 2.7174 - val_correction_sleep_mic_prediction_loss: 4.2977 - val_unconstrained_sleep_amp_prediction_loss: 0.6759 - val_unconstrained_sleep_mic_prediction_loss: 0.9614 - val_z_cond_reconstructed_error_loss: 0.0857 - val_correction_sleep_cond_reconstructed_error_loss: 0.0858 - val_unconstrained_sleep_cond_reconstructed_error_loss: 1.2083 - val_amp_prediction_acc: 0.0029 - val_amp_prediction_binary_crossentropy: 0.3074 - val_mic_prediction_acc: 0.0000e+00 - val_mic_prediction_binary_crossentropy: 0.0788 - val_vae_loss_1__kl_metric: 391.4205 - val_vae_loss_1__rcl: 0.2206 - val_vae_loss_1__reconstruction_acc: 0.9323 - val_vae_loss_1__amino_acc: 0.9229 - val_vae_loss_1__empty_acc: 0.9997 - val_mic_mean_grad_mse: 0.5174 - val_mic_mean_grad_huber_loss: 0.0453 - val_amp_mean_grad_mse: 1.5938 - val_amp_mean_grad_huber_loss: 0.1794 - val_unconstrained_sleep_mic_output_grad_input_mse: 0.4162 - val_unconstrained_sleep_mic_output_grad_input_huber_loss: 0.1090 - val_unconstrained_sleep_amp_output_grad_input_mse: 0.2371 - val_unconstrained_sleep_amp_output_grad_input_huber_loss: 0.0577 - val_correction_sleep_mic_output_grad_mse: 1.3575 - val_correction_sleep_mic_output_grad_huber_loss: 0.0958 - val_correction_sleep_amp_output_grad_mse: 2.5164 - val_correction_sleep_amp_output_grad_huber_loss: 0.2309 - val_correction_sleep_amp_prediction_acc: 0.5338 - val_correction_sleep_amp_prediction_binary_crossentropy: 2.7353 - val_correction_sleep_mic_prediction_acc: 0.5197 - val_correction_sleep_mic_prediction_binary_crossentropy: 4.3020 - val_unconstrained_sleep_amp_prediction_acc: 0.7147 - val_unconstrained_sleep_amp_prediction_binary_crossentropy: 0.7166 - val_unconstrained_sleep_mic_prediction_acc: 0.6730 - val_unconstrained_sleep_mic_prediction_binary_crossentropy: 0.9874 - val_z_cond_reconstructed_error_mse: 0.0857 - val_z_cond_reconstructed_error_mae: 0.1768 - val_correction_sleep_cond_reconstructed_error_mse: 0.0858 - val_correction_sleep_cond_reconstructed_error_mae: 0.1771 - val_unconstrained_sleep_cond_reconstructed_error_mse: 1.2083 - val_unconstrained_sleep_cond_reconstructed_error_mae: 0.8644\n",
      "Original positive: GGAGHVPEYFVGIGTPISFYG, \n",
      "generated: GFKDLLKGAAKALVKTVLF'''''', \n",
      "AMP probability: 0.9999939203262329, \n",
      " MIC prediction: 0.9999513626098633. \n",
      "\n",
      "Original negative: FPSELANMKNALGFFHIGEIF, \n",
      "generated: FPSELANMKNALGFFDIGDDF'''', \n",
      "AMP probability: 0.0022366789635270834, \n",
      "MIC prediction: 2.9021764476055978e-06. \n",
      "\n",
      "Current KL weight is 0.0001568312\n",
      "Current temperature is 1.2752563\n",
      "Epoch 11/11\n",
      "1408/1408 [==============================] - 2347s 2s/step - loss: 4.5137e-05 - amp_prediction_loss: 8.7257e-07 - mic_prediction_loss: 2.2728e-07 - vae_loss_1_loss: 4.3571e-05 - mic_mean_grad_loss: 1.8452e-07 - amp_mean_grad_loss: 6.6704e-07 - unconstrained_sleep_mic_output_grad_input_loss: 3.0232e-07 - unconstrained_sleep_amp_output_grad_input_loss: 1.5626e-07 - correction_sleep_mic_output_grad_loss: 3.7291e-07 - correction_sleep_amp_output_grad_loss: 8.6685e-07 - correction_sleep_amp_prediction_loss: 6.4464e-06 - correction_sleep_mic_prediction_loss: 1.1287e-05 - unconstrained_sleep_amp_prediction_loss: 1.7519e-06 - unconstrained_sleep_mic_prediction_loss: 2.4907e-06 - z_cond_reconstructed_error_loss: 2.0521e-07 - correction_sleep_cond_reconstructed_error_loss: 2.0462e-07 - unconstrained_sleep_cond_reconstructed_error_loss: 3.1276e-06 - amp_prediction_acc: 0.0040 - amp_prediction_binary_crossentropy: 0.3418 - mic_prediction_acc: 0.0000e+00 - mic_prediction_binary_crossentropy: 0.1001 - vae_loss_1__kl_metric: 384.9829 - vae_loss_1__rcl: 0.2552 - vae_loss_1__reconstruction_acc: 0.9214 - vae_loss_1__amino_acc: 0.9067 - vae_loss_1__empty_acc: 0.9992 - mic_mean_grad_mse: 1.1615 - mic_mean_grad_huber_loss: 0.0774 - amp_mean_grad_mse: 2.7896 - amp_mean_grad_huber_loss: 0.2429 - unconstrained_sleep_mic_output_grad_input_mse: 0.4923 - unconstrained_sleep_mic_output_grad_input_huber_loss: 0.1164 - unconstrained_sleep_amp_output_grad_input_mse: 0.2387 - unconstrained_sleep_amp_output_grad_input_huber_loss: 0.0602 - correction_sleep_mic_output_grad_mse: 2.6896 - correction_sleep_mic_output_grad_huber_loss: 0.1561 - correction_sleep_amp_output_grad_mse: 4.1827 - correction_sleep_amp_output_grad_huber_loss: 0.3140 - correction_sleep_amp_prediction_acc: 0.5413 - correction_sleep_amp_prediction_binary_crossentropy: 2.7096 - correction_sleep_mic_prediction_acc: 0.5293 - correction_sleep_mic_prediction_binary_crossentropy: 4.1804 - unconstrained_sleep_amp_prediction_acc: 0.7140 - unconstrained_sleep_amp_prediction_binary_crossentropy: 0.7154 - unconstrained_sleep_mic_prediction_acc: 0.6895 - unconstrained_sleep_mic_prediction_binary_crossentropy: 0.9836 - z_cond_reconstructed_error_mse: 0.0835 - z_cond_reconstructed_error_mae: 0.1752 - correction_sleep_cond_reconstructed_error_mse: 0.0831 - correction_sleep_cond_reconstructed_error_mae: 0.1753 - unconstrained_sleep_cond_reconstructed_error_mse: 1.2053 - unconstrained_sleep_cond_reconstructed_error_mae: 0.8639 - val_loss: 27.0113 - val_amp_prediction_loss: 0.4240 - val_mic_prediction_loss: 0.2218 - val_vae_loss_1_loss: 29.0329 - val_mic_mean_grad_loss: 0.1706 - val_amp_mean_grad_loss: 0.3749 - val_unconstrained_sleep_mic_output_grad_input_loss: 0.1057 - val_unconstrained_sleep_amp_output_grad_input_loss: 0.0607 - val_correction_sleep_mic_output_grad_loss: 0.2434 - val_correction_sleep_amp_output_grad_loss: 0.4337 - val_correction_sleep_amp_prediction_loss: 2.4234 - val_correction_sleep_mic_prediction_loss: 3.9839 - val_unconstrained_sleep_amp_prediction_loss: 0.6337 - val_unconstrained_sleep_mic_prediction_loss: 0.8336 - val_z_cond_reconstructed_error_loss: 0.0910 - val_correction_sleep_cond_reconstructed_error_loss: 0.0902 - val_unconstrained_sleep_cond_reconstructed_error_loss: 1.1837 - val_amp_prediction_acc: 0.0028 - val_amp_prediction_binary_crossentropy: 0.4427 - val_mic_prediction_acc: 0.0000e+00 - val_mic_prediction_binary_crossentropy: 0.2262 - val_vae_loss_1__kl_metric: 368.2009 - val_vae_loss_1__rcl: 0.4471 - val_vae_loss_1__reconstruction_acc: 0.8740 - val_vae_loss_1__amino_acc: 0.8402 - val_vae_loss_1__empty_acc: 0.9983 - val_mic_mean_grad_mse: 2.4391 - val_mic_mean_grad_huber_loss: 0.1706 - val_amp_mean_grad_mse: 4.4935 - val_amp_mean_grad_huber_loss: 0.3749 - val_unconstrained_sleep_mic_output_grad_input_mse: 0.4108 - val_unconstrained_sleep_mic_output_grad_input_huber_loss: 0.1057 - val_unconstrained_sleep_amp_output_grad_input_mse: 0.2490 - val_unconstrained_sleep_amp_output_grad_input_huber_loss: 0.0607 - val_correction_sleep_mic_output_grad_mse: 3.7106 - val_correction_sleep_mic_output_grad_huber_loss: 0.2434 - val_correction_sleep_amp_output_grad_mse: 5.4016 - val_correction_sleep_amp_output_grad_huber_loss: 0.4337 - val_correction_sleep_amp_prediction_acc: 0.5489 - val_correction_sleep_amp_prediction_binary_crossentropy: 2.4427 - val_correction_sleep_mic_prediction_acc: 0.5404 - val_correction_sleep_mic_prediction_binary_crossentropy: 3.9895 - val_unconstrained_sleep_amp_prediction_acc: 0.7341 - val_unconstrained_sleep_amp_prediction_binary_crossentropy: 0.6725 - val_unconstrained_sleep_mic_prediction_acc: 0.7198 - val_unconstrained_sleep_mic_prediction_binary_crossentropy: 0.8567 - val_z_cond_reconstructed_error_mse: 0.0910 - val_z_cond_reconstructed_error_mae: 0.1905 - val_correction_sleep_cond_reconstructed_error_mse: 0.0902 - val_correction_sleep_cond_reconstructed_error_mae: 0.1905 - val_unconstrained_sleep_cond_reconstructed_error_mse: 1.1837 - val_unconstrained_sleep_cond_reconstructed_error_mae: 0.8584\n"
     ]
    },
    {
     "name": "stdout",
     "output_type": "stream",
     "text": [
      "Original positive: GGAGHVPEYFVGIGTPISFYG, \n",
      "generated: GFVILLKGAAKALVKTVLF'''''', \n",
      "AMP probability: 0.9999055862426758, \n",
      " MIC prediction: 0.4439588487148285. \n",
      "\n",
      "Original negative: FPSELANMKNALGFFHIGEIF, \n",
      "generated: FPGDLANMKNALGFFDIGDDF'''', \n",
      "AMP probability: 0.0032805451191961765, \n",
      "MIC prediction: 2.2464888388640247e-05. \n",
      "\n",
      "Current KL weight is 0.00017332529\n",
      "Current temperature is 1.1538996\n"
     ]
    }
   ],
   "source": [
    "history = master_keras_model.fit_generator(\n",
    "    training_dataset,\n",
    "    steps_per_epoch=1408,\n",
    "    epochs=11,\n",
    "    validation_data=validation_generator,\n",
    "    validation_steps=176,\n",
    "    callbacks=[vae_callback, sm_callback, BestGenerationAdder(training_dataset)],\n",
    ")\n"
   ]
  }
 ],
 "metadata": {
  "kernelspec": {
   "display_name": "Python 3",
   "language": "python",
   "name": "python3"
  },
  "language_info": {
   "codemirror_mode": {
    "name": "ipython",
    "version": 3
   },
   "file_extension": ".py",
   "mimetype": "text/x-python",
   "name": "python",
   "nbconvert_exporter": "python",
   "pygments_lexer": "ipython3",
   "version": "3.8.10"
  }
 },
 "nbformat": 4,
 "nbformat_minor": 4
}
